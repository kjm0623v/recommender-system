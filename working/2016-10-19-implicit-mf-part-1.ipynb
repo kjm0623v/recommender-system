{
 "cells": [
  {
   "cell_type": "markdown",
   "metadata": {},
   "source": [
    "<!-- PELICAN_BEGIN_SUMMARY -->\n",
    "\n",
    "Last post I described how I collected implicit feedback data from the website [Sketchfab](https://sketchfab.com/). I then claimed I would write about how to actually build a recommendation system with this data. Well, here we are! Let's build.\n",
    "\n",
    "<!-- PELICAN_END_SUMMARY -->\n",
    "\n",
    "I think the best place to start when looking into implicit feedback recommenders is with the model outlined in the classic paper \"[Collaborative Filtering for Implicit Feedback Datasets](http://yifanhu.net/PUB/cf.pdf)\" by Koren et.al. (warning: pdf link).  I have seen many names in the literature and machine learning libraries for this model. I'll call it Weighted Regularized Matrix Factorization (WRMF) which tends to be a name used fairly often. WRMF is like the classic rock of implicit matrix factorization. It may not be the trendiest, but it will never go out of style. And, everytime I use it, I know that I'm guaranteed to like what I get out. Specifically, this model makes reasonable intuitive sense, it's scalable, and, most importantly, I've found it easy to tune. There are much fewer hyperparameters than, say, stochastic gradient descent models.\n",
    "\n",
    "If you recall from my post on [Explicit Feedback Matrix Factorization]({filename}/2016-01-09-explicit-matrix-factorization-als-sgd.md), we had a loss function (without biases) that looked like:\n",
    "\n",
    "$$L_{exp} = \\sum\\limits_{u,i \\in S}(r_{ui} - \\textbf{x}_{u}^{\\intercal} \\cdot{} \\textbf{y}_{i})^{2} + \\lambda_{x} \\sum\\limits_{u} \\left\\Vert \\textbf{x}_{u} \\right\\Vert^{2} + \\lambda_{y} \\sum\\limits_{u} \\left\\Vert \\textbf{y}_{i} \\right\\Vert^{2}$$\n",
    "\n",
    "where $r_{ui}$ is an element of the matrix of user-item *ratings*, $\\textbf{x}_{u}$ ($\\textbf{y}_{i}$) are user $u$'s (item $i$'s) latent factors, and $S$ was the set of all user-item ratings. WRMF is simply a modification of this loss function:\n",
    "\n",
    "$$L_{WRMF} = \\sum\\limits_{u,i}c_{ui} \\big( p_{ui} - \\textbf{x}_{u}^{\\intercal} \\cdot{} \\textbf{y}_{i} \\big) ^{2} + \\lambda_{x} \\sum\\limits_{u} \\left\\Vert \\textbf{x}_{u} \\right\\Vert^{2} + \\lambda_{y} \\sum\\limits_{u} \\left\\Vert \\textbf{y}_{i} \\right\\Vert^{2}$$\n",
    "\n",
    "Here, we are not summing of over elements of $S$ but instead over our entire matrix. Recall that with implicit feedback, we do not have ratings anymore; rather, we have users' preferences for items. In the WRMF loss function, the ratings matrix $r_{ui}$ has been replaced with a preference matrix $p_{ui}$. We make the assumption that if a user has interacted at all with an item, then $p_{ui} = 1$. Otherwise, $p_{ui} = 0$.\n",
    "\n",
    "The other new term in the loss function is $c_{ui}$. We call this the confidence matrix, and it roughly describes how confident we are that user $u$ does in fact have preference $p_{ui}$ for item $i$. In the paper, one of the confidence formulas that the authors consider is linear in the number of interactions. If we take $d_{ui}$ to be the number of times a user has clicked on an item on a website, then\n",
    "\n",
    "$$c_{ui} = 1 + \\alpha d_{ui}$$\n",
    "\n",
    "where $\\alpha$ is some hyperparameter determined by cross validation. In the case of the Sketchfab data, we only have binary \"likes\", so $d_{ui} \\in \\{0, 1\\}$\n",
    "\n",
    "To take a step back, WRMF does not make the assumption that a user who has not interacted with an item does not *like* the item. WRMF *does* assume that that user has a negative preference towards that item, but we can choose how confident we are in that assumption through the confidence hyperparameter.\n",
    "\n",
    "Now, I could go through the whole derivation in gory latex of how to optimize this algorithm &aacute; la my previous explicit MF post, but other people have already done this many times over. Here's a great StackOverflow [answer](http://math.stackexchange.com/a/1073170), or, if you like your derivations in Dirac notation, then checkout Sudeep Das' [post](http://datamusing.info/blog/2015/01/07/implicit-feedback-and-collaborative-filtering/).\n",
    "\n",
    "## WRMF Libraries\n",
    "\n",
    "There are a number of places to find open source code which implements WRMF. The most popular method of optimizing the loss function is through Alternating Least Squares. This tends be less tricky to tune than stochastic gradient descent, and the model is [embarrassingly parallel](https://en.wikipedia.org/wiki/Embarrassingly_parallel). \n",
    "\n",
    "The first code I saw for this algorithm was from Chris Johnson's [repo](https://github.com/MrChrisJohnson/implicit-mf). This code is in python, nicely makes use of sparse matrices, and generally gets the job done. Thierry Bertin-Mahieux then took this code and [parallelized it](https://github.com/tbertinmahieux/implicit-mf) using the python multiprocessing library. This provides a decent speedup with no loss in accuracy. \n",
    "\n",
    "The people at Quora came out with a library called [qmf](https://github.com/quora/qmf) which is parellized and written in C++. I haven't used it, but it is presumably faster than the multiprocessing python version. Lastly, Ben Frederickson went and wrote parallelized code in pure Cython [here](https://github.com/benfred/implicit). This blows the other python versions out of the water in terms of performance and is somehow [faster](https://github.com/benfred/implicit/blob/master/examples/benchmark.py) than qmf (which seems odd).\n",
    "\n",
    "Anywho, I ended up using Ben's library for this post because (1) I could stay in python, and (2) it's super fast. I forked the library and wrote a small class to wrap the algorithm to make it easy to run grid searches and calculate learning curves. Feel free to check out my fork [here](https://github.com/EthanRosenthal/implicit), though I didn't write any tests so use at your own risk :)\n",
    "\n",
    "## Massaging the data\n",
    "\n",
    "Now that that's out of the way, let's train a WRMF model so we can finally recommend some Sketchfab models!\n",
    "\n",
    "The first step is to load the data and transform it into an interactions matrix of size \"number of users\" by \"number of items\". The data is currently stored as a csv with each row denoting a model that a user has \"liked\" on the Sketchfab website. The first column is the name of the model, the second column is the unique model ID (```mid```), and the third column is the anonymized user ID (```uid```)."
   ]
  },
  {
   "cell_type": "code",
   "execution_count": 1,
   "metadata": {
    "collapsed": true
   },
   "outputs": [],
   "source": [
    "%matplotlib inline\n",
    "import matplotlib.pyplot as plt\n",
    "import pandas as pd\n",
    "import numpy as np\n",
    "import scipy.sparse as sparse\n",
    "import pickle\n",
    "import csv\n",
    "import implicit\n",
    "import itertools\n",
    "import copy\n",
    "plt.style.use('ggplot')\n",
    "%load_ext autoreload\n",
    "%autoreload 2"
   ]
  },
  {
   "cell_type": "code",
   "execution_count": 2,
   "metadata": {},
   "outputs": [
    {
     "data": {
      "text/html": [
       "<div>\n",
       "<style>\n",
       "    .dataframe thead tr:only-child th {\n",
       "        text-align: right;\n",
       "    }\n",
       "\n",
       "    .dataframe thead th {\n",
       "        text-align: left;\n",
       "    }\n",
       "\n",
       "    .dataframe tbody tr th {\n",
       "        vertical-align: top;\n",
       "    }\n",
       "</style>\n",
       "<table border=\"1\" class=\"dataframe\">\n",
       "  <thead>\n",
       "    <tr style=\"text-align: right;\">\n",
       "      <th></th>\n",
       "      <th>modelname</th>\n",
       "      <th>mid</th>\n",
       "      <th>uid</th>\n",
       "    </tr>\n",
       "  </thead>\n",
       "  <tbody>\n",
       "    <tr>\n",
       "      <th>0</th>\n",
       "      <td>3D fanart Noel From Sora no Method</td>\n",
       "      <td>5dcebcfaedbd4e7b8a27bd1ae55f1ac3</td>\n",
       "      <td>7ac1b40648fff523d7220a5d07b04d9b</td>\n",
       "    </tr>\n",
       "    <tr>\n",
       "      <th>1</th>\n",
       "      <td>3D fanart Noel From Sora no Method</td>\n",
       "      <td>5dcebcfaedbd4e7b8a27bd1ae55f1ac3</td>\n",
       "      <td>2b4ad286afe3369d39f1bb7aa2528bc7</td>\n",
       "    </tr>\n",
       "    <tr>\n",
       "      <th>2</th>\n",
       "      <td>3D fanart Noel From Sora no Method</td>\n",
       "      <td>5dcebcfaedbd4e7b8a27bd1ae55f1ac3</td>\n",
       "      <td>1bf0993ebab175a896ac8003bed91b4b</td>\n",
       "    </tr>\n",
       "    <tr>\n",
       "      <th>3</th>\n",
       "      <td>3D fanart Noel From Sora no Method</td>\n",
       "      <td>5dcebcfaedbd4e7b8a27bd1ae55f1ac3</td>\n",
       "      <td>6484211de8b9a023a7d9ab1641d22e7c</td>\n",
       "    </tr>\n",
       "    <tr>\n",
       "      <th>4</th>\n",
       "      <td>3D fanart Noel From Sora no Method</td>\n",
       "      <td>5dcebcfaedbd4e7b8a27bd1ae55f1ac3</td>\n",
       "      <td>1109ee298494fbd192e27878432c718a</td>\n",
       "    </tr>\n",
       "  </tbody>\n",
       "</table>\n",
       "</div>"
      ],
      "text/plain": [
       "                            modelname                               mid  \\\n",
       "0  3D fanart Noel From Sora no Method  5dcebcfaedbd4e7b8a27bd1ae55f1ac3   \n",
       "1  3D fanart Noel From Sora no Method  5dcebcfaedbd4e7b8a27bd1ae55f1ac3   \n",
       "2  3D fanart Noel From Sora no Method  5dcebcfaedbd4e7b8a27bd1ae55f1ac3   \n",
       "3  3D fanart Noel From Sora no Method  5dcebcfaedbd4e7b8a27bd1ae55f1ac3   \n",
       "4  3D fanart Noel From Sora no Method  5dcebcfaedbd4e7b8a27bd1ae55f1ac3   \n",
       "\n",
       "                                uid  \n",
       "0  7ac1b40648fff523d7220a5d07b04d9b  \n",
       "1  2b4ad286afe3369d39f1bb7aa2528bc7  \n",
       "2  1bf0993ebab175a896ac8003bed91b4b  \n",
       "3  6484211de8b9a023a7d9ab1641d22e7c  \n",
       "4  1109ee298494fbd192e27878432c718a  "
      ]
     },
     "execution_count": 2,
     "metadata": {},
     "output_type": "execute_result"
    }
   ],
   "source": [
    "df = pd.read_csv('./dataset/model_likes_anon.psv',\n",
    "                 sep='|', quoting=csv.QUOTE_MINIMAL,\n",
    "                 quotechar='\\\\')\n",
    "df.head()"
   ]
  },
  {
   "cell_type": "code",
   "execution_count": 3,
   "metadata": {},
   "outputs": [
    {
     "name": "stdout",
     "output_type": "stream",
     "text": [
      "Duplicated rows: 155\n",
      "That's weird - let's just drop them\n"
     ]
    }
   ],
   "source": [
    "print('Duplicated rows: ' + str(df.duplicated().sum()))\n",
    "print('That\\'s weird - let\\'s just drop them')\n",
    "df.drop_duplicates(inplace=True)"
   ]
  },
  {
   "cell_type": "code",
   "execution_count": 4,
   "metadata": {},
   "outputs": [
    {
     "data": {
      "text/html": [
       "<div>\n",
       "<style>\n",
       "    .dataframe thead tr:only-child th {\n",
       "        text-align: right;\n",
       "    }\n",
       "\n",
       "    .dataframe thead th {\n",
       "        text-align: left;\n",
       "    }\n",
       "\n",
       "    .dataframe tbody tr th {\n",
       "        vertical-align: top;\n",
       "    }\n",
       "</style>\n",
       "<table border=\"1\" class=\"dataframe\">\n",
       "  <thead>\n",
       "    <tr style=\"text-align: right;\">\n",
       "      <th></th>\n",
       "      <th>uid</th>\n",
       "      <th>mid</th>\n",
       "    </tr>\n",
       "  </thead>\n",
       "  <tbody>\n",
       "    <tr>\n",
       "      <th>0</th>\n",
       "      <td>7ac1b40648fff523d7220a5d07b04d9b</td>\n",
       "      <td>5dcebcfaedbd4e7b8a27bd1ae55f1ac3</td>\n",
       "    </tr>\n",
       "    <tr>\n",
       "      <th>1</th>\n",
       "      <td>2b4ad286afe3369d39f1bb7aa2528bc7</td>\n",
       "      <td>5dcebcfaedbd4e7b8a27bd1ae55f1ac3</td>\n",
       "    </tr>\n",
       "    <tr>\n",
       "      <th>2</th>\n",
       "      <td>1bf0993ebab175a896ac8003bed91b4b</td>\n",
       "      <td>5dcebcfaedbd4e7b8a27bd1ae55f1ac3</td>\n",
       "    </tr>\n",
       "    <tr>\n",
       "      <th>3</th>\n",
       "      <td>6484211de8b9a023a7d9ab1641d22e7c</td>\n",
       "      <td>5dcebcfaedbd4e7b8a27bd1ae55f1ac3</td>\n",
       "    </tr>\n",
       "    <tr>\n",
       "      <th>4</th>\n",
       "      <td>1109ee298494fbd192e27878432c718a</td>\n",
       "      <td>5dcebcfaedbd4e7b8a27bd1ae55f1ac3</td>\n",
       "    </tr>\n",
       "  </tbody>\n",
       "</table>\n",
       "</div>"
      ],
      "text/plain": [
       "                                uid                               mid\n",
       "0  7ac1b40648fff523d7220a5d07b04d9b  5dcebcfaedbd4e7b8a27bd1ae55f1ac3\n",
       "1  2b4ad286afe3369d39f1bb7aa2528bc7  5dcebcfaedbd4e7b8a27bd1ae55f1ac3\n",
       "2  1bf0993ebab175a896ac8003bed91b4b  5dcebcfaedbd4e7b8a27bd1ae55f1ac3\n",
       "3  6484211de8b9a023a7d9ab1641d22e7c  5dcebcfaedbd4e7b8a27bd1ae55f1ac3\n",
       "4  1109ee298494fbd192e27878432c718a  5dcebcfaedbd4e7b8a27bd1ae55f1ac3"
      ]
     },
     "execution_count": 4,
     "metadata": {},
     "output_type": "execute_result"
    }
   ],
   "source": [
    "df = df[['uid', 'mid']]\n",
    "df.head()"
   ]
  },
  {
   "cell_type": "code",
   "execution_count": 5,
   "metadata": {},
   "outputs": [
    {
     "name": "stdout",
     "output_type": "stream",
     "text": [
      "Number of users: 62583\n",
      "Number of models: 28806\n",
      "Sparsity: 0.035%\n"
     ]
    }
   ],
   "source": [
    "n_users = df.uid.unique().shape[0]\n",
    "n_items = df.mid.unique().shape[0]\n",
    "\n",
    "print('Number of users: {}'.format(n_users))\n",
    "print('Number of models: {}'.format(n_items))\n",
    "print('Sparsity: {:4.3f}%'.format(float(df.shape[0]) / float(n_users*n_items) * 100))"
   ]
  },
  {
   "cell_type": "markdown",
   "metadata": {},
   "source": [
    "sparse한 데이터를 dense하게 만들기 위해서 일정 수 이상 like를 좋아한 user만 남겨준다.\n",
    "While implicit recommendations excel where data is sparse, it can often be helpful to make the interactions matrix a little more dense. We limited our data collection to models that had at least 5 likes. However, it may not be the case that every user has liked at least 5 models. Let's go ahead and knock out users that liked fewer than 5 models. This could possibly mean that some models end up with fewer than 5 likes once these users are knocked out, so we will have to alternate back and forth knocking users and models out until things stabilize."
   ]
  },
  {
   "cell_type": "code",
   "execution_count": 6,
   "metadata": {
    "collapsed": true
   },
   "outputs": [],
   "source": [
    "def threshold_likes(df, uid_min, mid_min):\n",
    "    n_users = df.uid.unique().shape[0]\n",
    "    n_items = df.mid.unique().shape[0]\n",
    "    sparsity = float(df.shape[0]) / float(n_users*n_items) * 100\n",
    "    print('Starting likes info')\n",
    "    print('Number of users: {}'.format(n_users))\n",
    "    print('Number of models: {}'.format(n_items))\n",
    "    print('Sparsity: {:4.3f}%'.format(sparsity))\n",
    "    \n",
    "    done = False\n",
    "    while not done:\n",
    "        starting_shape = df.shape[0]\n",
    "        mid_counts = df.groupby('uid').mid.count()\n",
    "        df = df[~df.uid.isin(mid_counts[mid_counts < mid_min].index.tolist())]\n",
    "        uid_counts = df.groupby('mid').uid.count()\n",
    "        df = df[~df.mid.isin(uid_counts[uid_counts < uid_min].index.tolist())]\n",
    "        ending_shape = df.shape[0]\n",
    "        if starting_shape == ending_shape:\n",
    "            done = True\n",
    "    \n",
    "    assert(df.groupby('uid').mid.count().min() >= mid_min)\n",
    "    assert(df.groupby('mid').uid.count().min() >= uid_min)\n",
    "    \n",
    "    n_users = df.uid.unique().shape[0]\n",
    "    n_items = df.mid.unique().shape[0]\n",
    "    # 전체 데이터 개수 / user수 * item수 \n",
    "    sparsity = float(df.shape[0]) / float(n_users*n_items) * 100\n",
    "    print('Ending likes info')\n",
    "    print('Number of users: {}'.format(n_users))\n",
    "    print('Number of models: {}'.format(n_items))\n",
    "    print('Sparsity: {:4.3f}%'.format(sparsity))\n",
    "    return df"
   ]
  },
  {
   "cell_type": "code",
   "execution_count": 7,
   "metadata": {
    "scrolled": true
   },
   "outputs": [
    {
     "name": "stdout",
     "output_type": "stream",
     "text": [
      "Starting likes info\n",
      "Number of users: 62583\n",
      "Number of models: 28806\n",
      "Sparsity: 0.035%\n",
      "Ending likes info\n",
      "Number of users: 15274\n",
      "Number of models: 25655\n",
      "Sparsity: 0.140%\n"
     ]
    }
   ],
   "source": [
    "df_lim = threshold_likes(df, 5, 5)"
   ]
  },
  {
   "cell_type": "markdown",
   "metadata": {},
   "source": [
    "Nice, we're above 0.1% which should be suitable for making decent recommendations. We now need to map each ```uid``` and ```mid``` to a row and column, respectively, for our interactions, or \"likes\" matrix. This can be done simply with Python dictionaries"
   ]
  },
  {
   "cell_type": "code",
   "execution_count": 8,
   "metadata": {
    "collapsed": true
   },
   "outputs": [],
   "source": [
    "# Create mappings\n",
    "mid_to_idx = {}\n",
    "idx_to_mid = {}\n",
    "for (idx, mid) in enumerate(df_lim.mid.unique().tolist()):\n",
    "    mid_to_idx[mid] = idx\n",
    "    idx_to_mid[idx] = mid\n",
    "    \n",
    "uid_to_idx = {}\n",
    "idx_to_uid = {}\n",
    "for (idx, uid) in enumerate(df_lim.uid.unique().tolist()):\n",
    "    uid_to_idx[uid] = idx\n",
    "    idx_to_uid[idx] = uid"
   ]
  },
  {
   "cell_type": "markdown",
   "metadata": {},
   "source": [
    "The last step is to actually build the matrix. We will use sparse matrices so as not to take up too much memory. Sparse matrices are tricky because they come in many forms, and there are giant performance tradeoffs between them. Below is a super slow way to build a likes matrix. I tried running ```%%timeit``` but got bored waiting for it to finish."
   ]
  },
  {
   "cell_type": "code",
   "execution_count": 9,
   "metadata": {
    "collapsed": true
   },
   "outputs": [],
   "source": [
    "# # Don't do this!\n",
    "# num_users = df_lim.uid.unique().shape[0]\n",
    "# num_items = df_lim.mid.unique().shape[0]\n",
    "# likes = sparse.csr_matrix((num_users, num_items), dtype=np.float64)\n",
    "# for row in df_lim.itertuples():\n",
    "#     likes[uid_to_idx[uid], mid_to_idx[row.mid]] = 1.0"
   ]
  },
  {
   "cell_type": "markdown",
   "metadata": {},
   "source": [
    "Alternatively, the below is pretty damn fast considering we're building a matrix of half a million likes."
   ]
  },
  {
   "cell_type": "code",
   "execution_count": 10,
   "metadata": {
    "collapsed": true
   },
   "outputs": [],
   "source": [
    "def map_ids(row, mapper):\n",
    "    return mapper[row]"
   ]
  },
  {
   "cell_type": "code",
   "execution_count": 11,
   "metadata": {},
   "outputs": [
    {
     "name": "stdout",
     "output_type": "stream",
     "text": [
      "1 loop, best of 3: 615 ms per loop\n"
     ]
    }
   ],
   "source": [
    "%%timeit\n",
    "I = df_lim.uid.apply(map_ids, args=[uid_to_idx]).as_matrix()\n",
    "J = df_lim.mid.apply(map_ids, args=[mid_to_idx]).as_matrix()\n",
    "V = np.ones(I.shape[0])\n",
    "likes = sparse.coo_matrix((V, (I, J)), dtype=np.float64)\n",
    "likes = likes.tocsr()"
   ]
  },
  {
   "cell_type": "markdown",
   "metadata": {},
   "source": [
    "sparse matrix로 만들어준다. "
   ]
  },
  {
   "cell_type": "code",
   "execution_count": 12,
   "metadata": {
    "collapsed": true
   },
   "outputs": [],
   "source": [
    "I = df_lim.uid.apply(map_ids, args=[uid_to_idx]).as_matrix()\n",
    "J = df_lim.mid.apply(map_ids, args=[mid_to_idx]).as_matrix()\n",
    "V = np.ones(I.shape[0])\n",
    "likes = sparse.coo_matrix((V, (I, J)), dtype=np.float64)\n",
    "likes = likes.tocsr()"
   ]
  },
  {
   "cell_type": "markdown",
   "metadata": {},
   "source": [
    "## Cross-validation: Splitsville\n",
    "\n",
    "Okay, we got a likes matrix and need to split it into training and test matrices. I do this a bit trickily (which is maybe a word?). I would like to track precision@k as my optimization metric later. A k of 5 would be nice. However, if I move 5 items from training to test for some of the users, then they may not have any data left in the training set (remember they had a minimum 5 likes). Thus, the train_test_split only looks for people who have at least 2*k (10 in this case) likes before moving some of their data to the test set. This obviously biases our cross-validation towards users with more likes. So it goes."
   ]
  },
  {
   "cell_type": "code",
   "execution_count": 26,
   "metadata": {
    "collapsed": true
   },
   "outputs": [],
   "source": [
    "def train_test_split(ratings, split_count, fraction=None):\n",
    "    \"\"\"\n",
    "    Split recommendation data into train and test sets\n",
    "    \n",
    "    Params\n",
    "    ------\n",
    "    ratings : scipy.sparse matrix\n",
    "        Interactions between users and items.\n",
    "    split_count : int\n",
    "        Number of user-item-interactions per user to move\n",
    "        from training to test set.\n",
    "    fractions : float\n",
    "        Fraction of users to split off some of their\n",
    "        interactions into test set. If None, then all \n",
    "        users are considered.\n",
    "    \"\"\"\n",
    "    # Note: likely not the fastest way to do things below.\n",
    "    train = ratings.copy().tocoo()\n",
    "    test = sparse.lil_matrix(train.shape)\n",
    "    \n",
    "    if fraction:\n",
    "        try:\n",
    "            # np.bincount: 있는 값들이 indices라고 생각하고 개수를 세서 indices에 반환해준다.  \n",
    "            # user 별로 10개 이상 평가했는지 확인한 다음에 한 user들 대상으로 무작위로 indices를 뽑는다. \n",
    "            user_index = np.random.choice(\n",
    "                np.where(np.bincount(train.row) >= split_count * 2)[0], \n",
    "                replace=False,\n",
    "                size=np.int32(np.floor(fraction * train.shape[0]))\n",
    "            ).tolist()\n",
    "        except:\n",
    "            print(('Not enough users with > {} '\n",
    "                  'interactions for fraction of {}')\\\n",
    "                  .format(2*k, fraction))\n",
    "            raise\n",
    "    else:\n",
    "        user_index = range(train.shape[0])\n",
    "        \n",
    "    # 행, 열 정보를 가져오기(subscriptable) 위해서는 lil 형식으로 바꿔줘야 한다. \n",
    "    train = train.tolil()\n",
    "    \n",
    "    for user in user_index:\n",
    "        # 위에서 고른 user에 대해서 indices(model) 들을 보고 그 중에 무작위로 5개를 뽑는다. \n",
    "        test_ratings = np.random.choice(ratings.getrow(user).indices, \n",
    "                                        size=split_count, \n",
    "                                        replace=False)\n",
    "        # train에서 뽑은 indices에 대해서는 0의 값을 지정해준다. \n",
    "        train[user, test_ratings] = 0.\n",
    "        # test는 반대로 위에서 뽑은 indices에 대해서 1의 값을 지정해준다. \n",
    "        test[user, test_ratings] = ratings[user, test_ratings]\n",
    "   \n",
    "    \n",
    "    # train, test 데이터는 서로 겹치는 1의 값이 없어야 한다. 즉 곱했을 때 전부다 0이다. \n",
    "    assert(train.multiply(test).nnz == 0)\n",
    "    return train.tocsr(), test.tocsr(), user_index"
   ]
  },
  {
   "cell_type": "markdown",
   "metadata": {},
   "source": [
    "## Cross-validation: Grid search\n",
    "\n",
    "Now that the data is split into training and test matrices, let's run a giant grid search to optimize our hyperparameters. We have four parameters that we would like to optimize:\n",
    "\n",
    "1. ```factors```: The number of latent factors, or degree of dimensionality in our model.\n",
    "2. ```regularization```: Scale of regularization for both user and item factors.\n",
    "3. ```alpha```: Our confidence scaling term. # 이거 패키지에 없는데 무슨 값이지?\n",
    "3. ```iterations```: Number of iterations to run Alternating Least Squares optimization.\n",
    "\n",
    "I am going to track mean squared error (MSE) and precision at k (p@k), but I mainly care about the later. I've written some functions below to help with metric calculations and making the training log printout look nice. I am going to calculate a bunch of learning curves (that is, evaluate performance metrics at various stages of the training process) for a bunch of different hyperparameter combinations. Props to scikit-learn for being open source and letting me basically crib their GridSearchCV code."
   ]
  },
  {
   "cell_type": "code",
   "execution_count": 34,
   "metadata": {
    "collapsed": true
   },
   "outputs": [],
   "source": [
    "train, test, user_index = train_test_split(likes, 5, fraction=0.2)"
   ]
  },
  {
   "cell_type": "code",
   "execution_count": 35,
   "metadata": {
    "collapsed": true
   },
   "outputs": [],
   "source": [
    "from sklearn.metrics import mean_squared_error\n",
    "\n",
    "def calculate_mse(model, ratings, user_index=None):\n",
    "    preds = model.predict_for_customers()\n",
    "    if user_index:\n",
    "        return mean_squared_error(ratings[user_index, :].toarray().ravel(),\n",
    "                                  preds[user_index, :].ravel())\n",
    "    \n",
    "    return mean_squared_error(ratings.toarray().ravel(),\n",
    "                              preds.ravel())"
   ]
  },
  {
   "cell_type": "code",
   "execution_count": 36,
   "metadata": {
    "collapsed": true
   },
   "outputs": [],
   "source": [
    "# precision을 구하는 방식이다. k개를 고르고 그 중에 몇개나 맞는지 확인한다. \n",
    "# user_index에 대해서만 해도 되고 전체 user에 대해서 해도 된다. \n",
    "def precision_at_k(model, ratings, k=5, user_index=None):\n",
    "    if not user_index:\n",
    "        user_index = range(ratings.shape[0])\n",
    "    ratings = ratings.tocsr()\n",
    "    precisions = []\n",
    "    # Note: line below may become infeasible for large datasets.\n",
    "    predictions = model.predict_for_customers()\n",
    "    for user in user_index:\n",
    "        # In case of large dataset, compute predictions row-by-row like below\n",
    "        # predictions = np.array([model.predict(row, i) for i in xrange(ratings.shape[1])])\n",
    "        top_k = np.argsort(-predictions[user, :])[:k]\n",
    "        labels = ratings.getrow(user).indices\n",
    "        precision = float(len(set(top_k) & set(labels))) / float(k)\n",
    "        precisions.append(precision)\n",
    "    return np.mean(precisions)"
   ]
  },
  {
   "cell_type": "code",
   "execution_count": 37,
   "metadata": {
    "collapsed": true
   },
   "outputs": [],
   "source": [
    "# 학습할 때 log 출력을 위한 코드\n",
    "def print_log(row, header=False, spacing=12):\n",
    "    top = ''\n",
    "    middle = ''\n",
    "    bottom = ''\n",
    "    for r in row:\n",
    "        top += '+{}'.format('-'*spacing)\n",
    "        if isinstance(r, str):\n",
    "            middle += '| {0:^{1}} '.format(r, spacing-2)\n",
    "        elif isinstance(r, int):\n",
    "            middle += '| {0:^{1}} '.format(r, spacing-2)\n",
    "        elif isinstance(r, float):\n",
    "            middle += '| {0:^{1}.5f} '.format(r, spacing-2)\n",
    "        bottom += '+{}'.format('='*spacing)\n",
    "    top += '+'\n",
    "    middle += '|'\n",
    "    bottom += '+'\n",
    "    if header:\n",
    "        print(top)\n",
    "        print(middle)\n",
    "        print(bottom)\n",
    "    else:\n",
    "        print(middle)\n",
    "        print(top)"
   ]
  },
  {
   "cell_type": "code",
   "execution_count": 38,
   "metadata": {
    "collapsed": true
   },
   "outputs": [],
   "source": [
    "# learning curve를 그려주는 코드\n",
    "def learning_curve(model, train, test, epochs, k=5, user_index=None):\n",
    "    if not user_index:\n",
    "        user_index = range(train.shape[0])\n",
    "    prev_epoch = 0\n",
    "    train_precision = []\n",
    "    train_mse = []\n",
    "    test_precision = []\n",
    "    test_mse = []\n",
    "    \n",
    "    headers = ['epochs', 'p@k train', 'p@k test',\n",
    "               'mse train', 'mse test']\n",
    "    print_log(headers, header=True)\n",
    "    \n",
    "    for epoch in epochs:\n",
    "        model.iterations = epoch - prev_epoch\n",
    "        if not hasattr(model, 'user_vectors'):\n",
    "            # item_to_user 형식을 받는 걸로 바뀌었다. \n",
    "            model.fit(train.T.tocsr())\n",
    "        else:\n",
    "            model.fit_partial(train.T.tocsr())\n",
    "        train_mse.append(calculate_mse(model, train, user_index))\n",
    "        train_precision.append(precision_at_k(model, train, k, user_index))\n",
    "        test_mse.append(calculate_mse(model, test, user_index))\n",
    "        test_precision.append(precision_at_k(model, test, k, user_index))\n",
    "        row = [epoch, train_precision[-1], test_precision[-1],\n",
    "               train_mse[-1], test_mse[-1]]\n",
    "        print_log(row)\n",
    "        prev_epoch = epoch\n",
    "    return model, train_precision, train_mse, test_precision, test_mse"
   ]
  },
  {
   "cell_type": "code",
   "execution_count": 39,
   "metadata": {
    "collapsed": true
   },
   "outputs": [],
   "source": [
    "def grid_search_learning_curve(base_model, train, test, param_grid,\n",
    "                               user_index=None, patk=5, epochs=range(2, 10, 2)):\n",
    "    \"\"\"\n",
    "    \"Inspired\" (stolen) from sklearn gridsearch\n",
    "    https://github.com/scikit-learn/scikit-learn/blob/master/sklearn/model_selection/_search.py\n",
    "    \"\"\"\n",
    "    curves = []\n",
    "    keys, values = zip(*param_grid.items())\n",
    "    for v in itertools.product(*values):\n",
    "        params = dict(zip(keys, v))\n",
    "        this_model = copy.deepcopy(base_model)\n",
    "        print_line = []\n",
    "        for k, v in params.items():\n",
    "            setattr(this_model, k, v)\n",
    "            print_line.append((k, v))\n",
    "\n",
    "        print(' | '.join('{}: {}'.format(k, v) for (k, v) in print_line))\n",
    "        _, train_patk, train_mse, test_patk, test_mse = learning_curve(this_model, train, test,\n",
    "                                                                epochs, k=patk, user_index=user_index)\n",
    "        curves.append({'params': params,\n",
    "                       'patk': {'train': train_patk, 'test': test_patk},\n",
    "                       'mse': {'train': train_mse, 'test': test_mse}})\n",
    "    return curves"
   ]
  },
  {
   "cell_type": "markdown",
   "metadata": {},
   "source": [
    "Please note that the below parameter grid is fucking huge and took like 2 days to run on my 6-year old 4-core i5. It turns out that the performance metrics functions are actually a good bit slower than the training process. These functions could be simply paralellized - something for me to do on a later date."
   ]
  },
  {
   "cell_type": "code",
   "execution_count": 45,
   "metadata": {
    "collapsed": true
   },
   "outputs": [],
   "source": [
    "param_grid = {'factors': [40], # 80, 120],\n",
    "              'regularization': [0.0, 1e-5, 1e-3], # 1e-1, 1e1, 1e2]\n",
    "              'alpha': [1, 10, 50]} #, 100, 500, 1000]}"
   ]
  },
  {
   "cell_type": "code",
   "execution_count": 46,
   "metadata": {},
   "outputs": [],
   "source": [
    "base_model = implicit.als.AlternatingLeastSquares()"
   ]
  },
  {
   "cell_type": "code",
   "execution_count": 47,
   "metadata": {},
   "outputs": [
    {
     "name": "stdout",
     "output_type": "stream",
     "text": [
      "factors: 40 | regularization: 0.0 | alpha: 1\n",
      "+------------+------------+------------+------------+------------+\n",
      "|   epochs   | p@k train  |  p@k test  | mse train  |  mse test  |\n",
      "+============+============+============+============+============+\n",
      "|     2      |  0.29699   |  0.02358   |  0.00161   |  0.00069   |\n",
      "+------------+------------+------------+------------+------------+\n",
      "|     4      |  0.30177   |  0.03137   |  0.00156   |  0.00075   |\n",
      "+------------+------------+------------+------------+------------+\n",
      "|     6      |  0.29398   |  0.03143   |  0.00155   |  0.00076   |\n",
      "+------------+------------+------------+------------+------------+\n",
      "|     8      |  0.29247   |  0.03157   |  0.00154   |  0.00077   |\n",
      "+------------+------------+------------+------------+------------+\n",
      "factors: 40 | regularization: 0.0 | alpha: 10\n",
      "+------------+------------+------------+------------+------------+\n",
      "|   epochs   | p@k train  |  p@k test  | mse train  |  mse test  |\n",
      "+============+============+============+============+============+\n",
      "|     2      |  0.38703   |  0.02469   |  0.00395   |  0.00400   |\n",
      "+------------+------------+------------+------------+------------+\n",
      "|     4      |  0.36045   |  0.03713   |  0.00386   |  0.00405   |\n",
      "+------------+------------+------------+------------+------------+\n",
      "|     6      |  0.35043   |  0.04001   |  0.00383   |  0.00405   |\n",
      "+------------+------------+------------+------------+------------+\n",
      "|     8      |  0.34355   |  0.04086   |  0.00382   |  0.00405   |\n",
      "+------------+------------+------------+------------+------------+\n",
      "factors: 40 | regularization: 0.0 | alpha: 50\n",
      "+------------+------------+------------+------------+------------+\n",
      "|   epochs   | p@k train  |  p@k test  | mse train  |  mse test  |\n",
      "+============+============+============+============+============+\n",
      "|     2      |  0.33877   |  0.02312   |  0.01527   |  0.01619   |\n",
      "+------------+------------+------------+------------+------------+\n",
      "|     4      |  0.32698   |  0.03556   |  0.01413   |  0.01519   |\n",
      "+------------+------------+------------+------------+------------+\n",
      "|     6      |  0.30642   |  0.03883   |  0.01388   |  0.01497   |\n",
      "+------------+------------+------------+------------+------------+\n",
      "|     8      |  0.29974   |  0.04158   |  0.01377   |  0.01487   |\n",
      "+------------+------------+------------+------------+------------+\n",
      "factors: 40 | regularization: 1e-05 | alpha: 1\n",
      "+------------+------------+------------+------------+------------+\n",
      "|   epochs   | p@k train  |  p@k test  | mse train  |  mse test  |\n",
      "+============+============+============+============+============+\n",
      "|     2      |  0.28716   |  0.02469   |  0.00160   |  0.00070   |\n",
      "+------------+------------+------------+------------+------------+\n",
      "|     4      |  0.30563   |  0.02980   |  0.00155   |  0.00076   |\n",
      "+------------+------------+------------+------------+------------+\n",
      "|     6      |  0.29771   |  0.03104   |  0.00154   |  0.00077   |\n",
      "+------------+------------+------------+------------+------------+\n",
      "|     8      |  0.29371   |  0.03229   |  0.00154   |  0.00077   |\n",
      "+------------+------------+------------+------------+------------+\n",
      "factors: 40 | regularization: 1e-05 | alpha: 10\n",
      "+------------+------------+------------+------------+------------+\n",
      "|   epochs   | p@k train  |  p@k test  | mse train  |  mse test  |\n",
      "+============+============+============+============+============+\n",
      "|     2      |  0.37662   |  0.02489   |  0.00397   |  0.00402   |\n",
      "+------------+------------+------------+------------+------------+\n",
      "|     4      |  0.36248   |  0.03556   |  0.00387   |  0.00406   |\n",
      "+------------+------------+------------+------------+------------+\n",
      "|     6      |  0.35141   |  0.03739   |  0.00384   |  0.00406   |\n",
      "+------------+------------+------------+------------+------------+\n",
      "|     8      |  0.35056   |  0.03857   |  0.00382   |  0.00405   |\n",
      "+------------+------------+------------+------------+------------+\n",
      "factors: 40 | regularization: 1e-05 | alpha: 50\n",
      "+------------+------------+------------+------------+------------+\n",
      "|   epochs   | p@k train  |  p@k test  | mse train  |  mse test  |\n",
      "+============+============+============+============+============+\n",
      "|     2      |  0.34826   |  0.02253   |  0.01523   |  0.01615   |\n",
      "+------------+------------+------------+------------+------------+\n",
      "|     4      |  0.32731   |  0.03536   |  0.01416   |  0.01522   |\n",
      "+------------+------------+------------+------------+------------+\n",
      "|     6      |  0.30635   |  0.04001   |  0.01390   |  0.01499   |\n",
      "+------------+------------+------------+------------+------------+\n",
      "|     8      |  0.29561   |  0.04054   |  0.01378   |  0.01488   |\n",
      "+------------+------------+------------+------------+------------+\n",
      "factors: 40 | regularization: 0.001 | alpha: 1\n",
      "+------------+------------+------------+------------+------------+\n",
      "|   epochs   | p@k train  |  p@k test  | mse train  |  mse test  |\n",
      "+============+============+============+============+============+\n",
      "|     2      |  0.29443   |  0.02371   |  0.00161   |  0.00069   |\n",
      "+------------+------------+------------+------------+------------+\n",
      "|     4      |  0.29948   |  0.02980   |  0.00155   |  0.00076   |\n",
      "+------------+------------+------------+------------+------------+\n",
      "|     6      |  0.29384   |  0.03012   |  0.00155   |  0.00076   |\n",
      "+------------+------------+------------+------------+------------+\n",
      "|     8      |  0.29260   |  0.03039   |  0.00154   |  0.00077   |\n",
      "+------------+------------+------------+------------+------------+\n",
      "factors: 40 | regularization: 0.001 | alpha: 10\n",
      "+------------+------------+------------+------------+------------+\n",
      "|   epochs   | p@k train  |  p@k test  | mse train  |  mse test  |\n",
      "+============+============+============+============+============+\n",
      "|     2      |  0.38219   |  0.02672   |  0.00398   |  0.00402   |\n",
      "+------------+------------+------------+------------+------------+\n",
      "|     4      |  0.36189   |  0.03589   |  0.00387   |  0.00406   |\n",
      "+------------+------------+------------+------------+------------+\n",
      "|     6      |  0.35069   |  0.03792   |  0.00383   |  0.00406   |\n",
      "+------------+------------+------------+------------+------------+\n",
      "|     8      |  0.34754   |  0.03942   |  0.00382   |  0.00405   |\n",
      "+------------+------------+------------+------------+------------+\n",
      "factors: 40 | regularization: 0.001 | alpha: 50\n",
      "+------------+------------+------------+------------+------------+\n",
      "|   epochs   | p@k train  |  p@k test  | mse train  |  mse test  |\n",
      "+============+============+============+============+============+\n",
      "|     2      |  0.34754   |  0.02200   |  0.01522   |  0.01614   |\n",
      "+------------+------------+------------+------------+------------+\n",
      "|     4      |  0.32908   |  0.03582   |  0.01415   |  0.01521   |\n",
      "+------------+------------+------------+------------+------------+\n",
      "|     6      |  0.31192   |  0.03772   |  0.01390   |  0.01499   |\n",
      "+------------+------------+------------+------------+------------+\n",
      "|     8      |  0.30164   |  0.03805   |  0.01378   |  0.01488   |\n",
      "+------------+------------+------------+------------+------------+\n"
     ]
    }
   ],
   "source": [
    "curves = grid_search_learning_curve(base_model, train, test,\n",
    "                                    param_grid,\n",
    "                                    user_index=user_index,\n",
    "                                    patk=5)"
   ]
  },
  {
   "cell_type": "markdown",
   "metadata": {},
   "source": [
    "The training log is ridculously long, but feel free to click [here]({filename}/assets/logs/wrmf_gridsearch.log) and check it out. Otherwise, here's the printout of the best run:\n",
    "\n",
    "```\n",
    "alpha: 50 | num_factors: 40 | regularization: 0.1\n",
    "+------------+------------+------------+------------+------------+\n",
    "|   epochs   | p@k train  |  p@k test  | mse train  |  mse test  |\n",
    "+============+============+============+============+============+\n",
    "|     2      |  0.33988   |  0.02541   |  0.01333   |  0.01403   |\n",
    "+------------+------------+------------+------------+------------+\n",
    "|     4      |  0.31395   |  0.03916   |  0.01296   |  0.01377   |\n",
    "+------------+------------+------------+------------+------------+\n",
    "|     6      |  0.30085   |  0.04231   |  0.01288   |  0.01372   |\n",
    "+------------+------------+------------+------------+------------+\n",
    "|     8      |  0.29175   |  0.04231   |  0.01285   |  0.01370   |\n",
    "+------------+------------+------------+------------+------------+\n",
    "|     10     |  0.28638   |  0.04407   |  0.01284   |  0.01370   |\n",
    "+------------+------------+------------+------------+------------+\n",
    "|     12     |  0.28684   |  0.04492   |  0.01284   |  0.01371   |\n",
    "+------------+------------+------------+------------+------------+\n",
    "|     14     |  0.28533   |  0.04571   |  0.01285   |  0.01371   |\n",
    "+------------+------------+------------+------------+------------+\n",
    "|     16     |  0.28389   |  0.04689   |  0.01285   |  0.01372   |\n",
    "+------------+------------+------------+------------+------------+\n",
    "|     18     |  0.28454   |  0.04695   |  0.01286   |  0.01373   |\n",
    "+------------+------------+------------+------------+------------+\n",
    "|     20     |  0.28454   |  0.04728   |  0.01287   |  0.01374   |\n",
    "+------------+------------+------------+------------+------------+\n",
    "|     22     |  0.28409   |  0.04761   |  0.01288   |  0.01376   |\n",
    "+------------+------------+------------+------------+------------+\n",
    "|     24     |  0.28251   |  0.04689   |  0.01289   |  0.01377   |\n",
    "+------------+------------+------------+------------+------------+\n",
    "|     26     |  0.28186   |  0.04656   |  0.01290   |  0.01378   |\n",
    "+------------+------------+------------+------------+------------+\n",
    "|     28     |  0.28199   |  0.04676   |  0.01291   |  0.01379   |\n",
    "+------------+------------+------------+------------+------------+\n",
    "|     30     |  0.28127   |  0.04669   |  0.01292   |  0.01380   |\n",
    "+------------+------------+------------+------------+------------+\n",
    "|     32     |  0.28173   |  0.04650   |  0.01292   |  0.01381   |\n",
    "+------------+------------+------------+------------+------------+\n",
    "|     34     |  0.28153   |  0.04650   |  0.01293   |  0.01382   |\n",
    "+------------+------------+------------+------------+------------+\n",
    "|     36     |  0.28166   |  0.04604   |  0.01294   |  0.01382   |\n",
    "+------------+------------+------------+------------+------------+\n",
    "|     38     |  0.28153   |  0.04637   |  0.01295   |  0.01383   |\n",
    "+------------+------------+------------+------------+------------+\n",
    "```"
   ]
  },
  {
   "cell_type": "markdown",
   "metadata": {},
   "source": [
    "Let's see what the learning curve looks like for our best run."
   ]
  },
  {
   "cell_type": "code",
   "execution_count": 48,
   "metadata": {
    "collapsed": true
   },
   "outputs": [],
   "source": [
    "best_curves = sorted(curves, key=lambda x: max(x['patk']['test']), reverse=True)"
   ]
  },
  {
   "cell_type": "code",
   "execution_count": 49,
   "metadata": {},
   "outputs": [
    {
     "name": "stdout",
     "output_type": "stream",
     "text": [
      "{'factors': 40, 'regularization': 0.0, 'alpha': 50}\n",
      "0.0415848068107\n",
      "Epoch: 8\n"
     ]
    }
   ],
   "source": [
    "print(best_curves[0]['params'])\n",
    "max_score = max(best_curves[0]['patk']['test'])\n",
    "print(max_score)\n",
    "iterations = range(2, 40, 2)[best_curves[0]['patk']['test'].index(max_score)]\n",
    "print('Epoch: {}'.format(iterations))"
   ]
  },
  {
   "cell_type": "code",
   "execution_count": 50,
   "metadata": {},
   "outputs": [
    {
     "data": {
      "image/png": "[encoded data removed]",
      "text/plain": [
       "<matplotlib.figure.Figure at 0x7fea1eec6d30>"
      ]
     },
     "metadata": {},
     "output_type": "display_data"
    }
   ],
   "source": [
    "import seaborn as sns\n",
    "sns.set_style('white')\n",
    "fig, ax = plt.subplots()\n",
    "sns.despine(fig);\n",
    "epochs = range(2, 10, 2)\n",
    "plt.plot(epochs, best_curves[0]['patk']['test']);\n",
    "plt.xlabel('Epochs', fontsize=24);\n",
    "plt.ylabel('Test p@k', fontsize=24);\n",
    "plt.xticks(fontsize=18);\n",
    "plt.yticks(fontsize=18);\n",
    "plt.title('Best learning curve', fontsize=30);"
   ]
  },
  {
   "cell_type": "markdown",
   "metadata": {},
   "source": [
    "While the curve is a bit jagged, it does not decrease too significantly as we move past our best epoch of 22. This means we do not have to be super careful implementing early stopping (if we take p@k to be the only metric that we care about).\n",
    "\n",
    "We can plot all of our learning curves and see that differences in hyperparameters *definitely* make a difference in performance."
   ]
  },
  {
   "cell_type": "code",
   "execution_count": 51,
   "metadata": {
    "collapsed": true
   },
   "outputs": [],
   "source": [
    "all_test_patks = [x['patk']['test'] for x in best_curves]"
   ]
  },
  {
   "cell_type": "code",
   "execution_count": 52,
   "metadata": {},
   "outputs": [
    {
     "data": {
      "image/png": "[encoded data removed]",
      "text/plain": [
       "<matplotlib.figure.Figure at 0x7fea1ea489b0>"
      ]
     },
     "metadata": {},
     "output_type": "display_data"
    }
   ],
   "source": [
    "fig, ax = plt.subplots(figsize=(8, 10));\n",
    "sns.despine(fig);\n",
    "epochs = range(2, 10, 2)\n",
    "totes = len(all_test_patks)\n",
    "for i, test_patk in enumerate(all_test_patks):\n",
    "    ax.plot(epochs, test_patk,\n",
    "             alpha=1/(.1*i+1),\n",
    "             c=sns.color_palette()[0]);\n",
    "    \n",
    "plt.xlabel('Epochs', fontsize=24);\n",
    "plt.ylabel('Test p@k', fontsize=24);\n",
    "plt.xticks(fontsize=18);\n",
    "plt.yticks(fontsize=18);\n",
    "plt.title('Grid-search p@k traces', fontsize=30);"
   ]
  },
  {
   "cell_type": "markdown",
   "metadata": {},
   "source": [
    "## Rec-a-sketch\n",
    "\n",
    "After all that, we finally have some optimal hyperparameters. We could now do a finer grid search or look at how varying the ratio between user and item regularization effects results, but I don't feel like waiting another 2 days...\n",
    "\n",
    "We'll now train a WRMF model on *all* of our data with the optimal hyper parameters and visualize some item-to-item recommendations. User-to-item recommendations are a bit more difficult to visualize and get a feel for how accurate they may be."
   ]
  },
  {
   "cell_type": "code",
   "execution_count": 53,
   "metadata": {
    "collapsed": true
   },
   "outputs": [],
   "source": [
    "params = best_curves[0]['params']\n",
    "params['iterations'] = range(2, 40, 2)[best_curves[0]['patk']['test'].index(max_score)]\n",
    "bestALS = implicit.als.AlternatingLeastSquares(**params)"
   ]
  },
  {
   "cell_type": "code",
   "execution_count": 54,
   "metadata": {
    "collapsed": true
   },
   "outputs": [],
   "source": [
    "bestALS.fit(likes.T.tocsr())"
   ]
  },
  {
   "cell_type": "markdown",
   "metadata": {},
   "source": [
    "To get item-to-item recommendations, I made a small method ```predict_for_items``` in the ```ALS``` class. This is essentially just a dot product between every combination of item vectors. If you let ```norm=True``` (the default), then this dot product is normalized by the norm of each item vector resulting in the cosine similarity. This tells us how similar two items are in the embedded, or latent space.\n",
    "\n",
    "```python\n",
    "    def predict_for_items(self, norm=True):\n",
    "        \"\"\"Recommend products for all products\"\"\"\n",
    "        pred = self.item_vectors.dot(self.item_vectors.T)\n",
    "        if norm:\n",
    "            norms = np.array([np.sqrt(np.diagonal(pred))])\n",
    "            pred = pred / norms / norms.T\n",
    "        return pred\n",
    "```"
   ]
  },
  {
   "cell_type": "markdown",
   "metadata": {},
   "source": [
    "Let's now visualize some of the models and their associated recommendations to get a feel for how well our recommender is working. We can simply query the sketchfab api to grab the models' thumbnails. Below is a helper function, that uses the item similarities, an index, and the index-to-```mid``` mapper to return a list of the recommendations' thumbnail urls. Note that the first recommendation is always the model itself due to it having a cosine similarity of 1 with itself."
   ]
  },
  {
   "cell_type": "code",
   "execution_count": 55,
   "metadata": {
    "collapsed": true
   },
   "outputs": [],
   "source": [
    "import requests\n",
    "def get_thumbnails(model, idx, idx_to_mid, N=10):\n",
    "    pred_for_item = model.predict_for_item(idx, False)\n",
    "    thumbs = []\n",
    "    for x in np.argsort(-pred_for_item)[:N]:\n",
    "        response = requests.get('https://sketchfab.com/i/models/{}'.format(idx_to_mid[x])).json()\n",
    "        thumb = [x['url'] for x in response['thumbnails']['images'] if x['width'] in [200, 256] \n",
    "                 and x['height'] in [200, 144]]\n",
    "        if not thumb:\n",
    "            print('no thumbnail')\n",
    "        else:\n",
    "            thumbs.append(thumb[0])\n",
    "    return thumbs"
   ]
  },
  {
   "cell_type": "markdown",
   "metadata": {},
   "source": [
    "We can now display the images using some HTML and core ```IPython``` functions."
   ]
  },
  {
   "cell_type": "code",
   "execution_count": 57,
   "metadata": {
    "collapsed": true
   },
   "outputs": [],
   "source": [
    "from IPython.display import display, HTML\n",
    "\n",
    "def display_thumbs(thumbs, N=5):\n",
    "    thumb_html = \"<img style='width: 160px; margin: 0px; \\\n",
    "                  float: left; border: 1px solid black;' src='{}' />\"\n",
    "    images = ''\n",
    "    display(HTML('<font size=5>'+'Input Model'+'</font>'))\n",
    "    display(HTML(thumb_html.format(thumbs[0])))\n",
    "    display(HTML('<font size=5>'+'Similar Models'+'</font>'))\n",
    "\n",
    "    for url in thumbs[1:N+1]:\n",
    "        images += thumb_html.format(url)\n",
    "    display(HTML(images))"
   ]
  },
  {
   "cell_type": "code",
   "execution_count": 58,
   "metadata": {},
   "outputs": [
    {
     "data": {
      "text/html": [
       "<font size=5>Input Model</font>"
      ],
      "text/plain": [
       "<IPython.core.display.HTML object>"
      ]
     },
     "metadata": {},
     "output_type": "display_data"
    },
    {
     "data": {
      "text/html": [
       "<img style='width: 160px; margin: 0px;                   float: left; border: 1px solid black;' src='https://media.sketchfab.com/urls/07ac452d75cc47969234b224422ea85d/dist/thumbnails/33fb4ce09214420cb2628b13421c5365/256x144.jpeg' />"
      ],
      "text/plain": [
       "<IPython.core.display.HTML object>"
      ]
     },
     "metadata": {},
     "output_type": "display_data"
    },
    {
     "data": {
      "text/html": [
       "<font size=5>Similar Models</font>"
      ],
      "text/plain": [
       "<IPython.core.display.HTML object>"
      ]
     },
     "metadata": {},
     "output_type": "display_data"
    },
    {
     "data": {
      "text/html": [
       "<img style='width: 160px; margin: 0px;                   float: left; border: 1px solid black;' src='https://media.sketchfab.com/urls/96340701c2ed4d37851c7d9109eee9c0/dist/thumbnails/316cd8e9eb564af68814768c6f8428fb/256x144.jpeg' /><img style='width: 160px; margin: 0px;                   float: left; border: 1px solid black;' src='https://media.sketchfab.com/urls/99257f0b7dee42278e06070ae1333dc4/dist/thumbnails/b534ff0391fa41cbb01caf17e979799a/256x144.jpeg' /><img style='width: 160px; margin: 0px;                   float: left; border: 1px solid black;' src='https://media.sketchfab.com/urls/3506359d171041cdae5c79068b00463b/dist/thumbnails/2a9fc4ef782e40f99b03c5e316712fd8/256x144.jpeg' /><img style='width: 160px; margin: 0px;                   float: left; border: 1px solid black;' src='https://media.sketchfab.com/urls/a00e8f2dd7324efc9d840213c9de0ca3/dist/thumbnails/d647366dae8c4413a6a9b8bfa0cd2b59/256x144.jpeg' /><img style='width: 160px; margin: 0px;                   float: left; border: 1px solid black;' src='https://media.sketchfab.com/urls/fe049feff8ba430db32aff3bb952f79c/dist/thumbnails/892d447762ce42f28ea06a54fb0d724f/256x144.jpeg' />"
      ],
      "text/plain": [
       "<IPython.core.display.HTML object>"
      ]
     },
     "metadata": {},
     "output_type": "display_data"
    }
   ],
   "source": [
    "# Select a random index\n",
    "rand_model = np.random.randint(0, len(idx_to_mid))\n",
    "display_thumbs(get_thumbnails(bestALS, rand_model, idx_to_mid))"
   ]
  },
  {
   "cell_type": "code",
   "execution_count": 59,
   "metadata": {},
   "outputs": [
    {
     "data": {
      "text/html": [
       "<font size=5>Input Model</font>"
      ],
      "text/plain": [
       "<IPython.core.display.HTML object>"
      ]
     },
     "metadata": {},
     "output_type": "display_data"
    },
    {
     "data": {
      "text/html": [
       "<img style='width: 160px; margin: 0px;                   float: left; border: 1px solid black;' src='https://media.sketchfab.com/urls/031d2c8434eb4f52a55f2a51965f5751/dist/thumbnails/1948f249c93d46c7a33533c5932ad360/200x200.jpeg' />"
      ],
      "text/plain": [
       "<IPython.core.display.HTML object>"
      ]
     },
     "metadata": {},
     "output_type": "display_data"
    },
    {
     "data": {
      "text/html": [
       "<font size=5>Similar Models</font>"
      ],
      "text/plain": [
       "<IPython.core.display.HTML object>"
      ]
     },
     "metadata": {},
     "output_type": "display_data"
    },
    {
     "data": {
      "text/html": [
       "<img style='width: 160px; margin: 0px;                   float: left; border: 1px solid black;' src='https://media.sketchfab.com/urls/07ac452d75cc47969234b224422ea85d/dist/thumbnails/33fb4ce09214420cb2628b13421c5365/256x144.jpeg' /><img style='width: 160px; margin: 0px;                   float: left; border: 1px solid black;' src='https://media.sketchfab.com/urls/96340701c2ed4d37851c7d9109eee9c0/dist/thumbnails/316cd8e9eb564af68814768c6f8428fb/256x144.jpeg' /><img style='width: 160px; margin: 0px;                   float: left; border: 1px solid black;' src='https://media.sketchfab.com/urls/10aa2b561d2a4415a08de242529f4796/dist/thumbnails/2b5227efd1564c0387da71b1ead0a529/200x200.jpeg' /><img style='width: 160px; margin: 0px;                   float: left; border: 1px solid black;' src='https://media.sketchfab.com/urls/620aa82471f340a8b7e51cfb44573a5b/dist/thumbnails/7d132553113a4064a03c366323fe6c43/200x200.jpeg' /><img style='width: 160px; margin: 0px;                   float: left; border: 1px solid black;' src='https://media.sketchfab.com/urls/1862e5f23e294d5ab713647770afab3b/dist/thumbnails/76d872fa37814899a6956ce1e2f52713/200x200.jpeg' />"
      ],
      "text/plain": [
       "<IPython.core.display.HTML object>"
      ]
     },
     "metadata": {},
     "output_type": "display_data"
    }
   ],
   "source": [
    "# Select another random index\n",
    "rand_model = np.random.randint(0, len(idx_to_mid))\n",
    "display_thumbs(get_thumbnails(bestALS, rand_model, idx_to_mid))"
   ]
  },
  {
   "cell_type": "code",
   "execution_count": 60,
   "metadata": {},
   "outputs": [
    {
     "data": {
      "text/html": [
       "<font size=5>Input Model</font>"
      ],
      "text/plain": [
       "<IPython.core.display.HTML object>"
      ]
     },
     "metadata": {},
     "output_type": "display_data"
    },
    {
     "data": {
      "text/html": [
       "<img style='width: 160px; margin: 0px;                   float: left; border: 1px solid black;' src='https://media.sketchfab.com/urls/ce651b814b504bafb0f1736fc2846b20/dist/thumbnails/1a37193f533a4589942eb42011ee7dd1/256x144.jpeg' />"
      ],
      "text/plain": [
       "<IPython.core.display.HTML object>"
      ]
     },
     "metadata": {},
     "output_type": "display_data"
    },
    {
     "data": {
      "text/html": [
       "<font size=5>Similar Models</font>"
      ],
      "text/plain": [
       "<IPython.core.display.HTML object>"
      ]
     },
     "metadata": {},
     "output_type": "display_data"
    },
    {
     "data": {
      "text/html": [
       "<img style='width: 160px; margin: 0px;                   float: left; border: 1px solid black;' src='https://media.sketchfab.com/urls/b09b124a1e3e4091baa93a88542e5415/dist/thumbnails/12813145d84b42ac8f5bb4fa15ee3f4c/200x200.jpeg' /><img style='width: 160px; margin: 0px;                   float: left; border: 1px solid black;' src='https://media.sketchfab.com/urls/8ae43fdd53014d9aa7376b0ddbc8171b/dist/thumbnails/6f551c7e1dfb4abb8bfc347e4585a6a8/200x200.jpeg' /><img style='width: 160px; margin: 0px;                   float: left; border: 1px solid black;' src='https://media.sketchfab.com/urls/e7492b0279a4447bb9ab53cc5b331b97/dist/thumbnails/716fcb95c4024e0db01ce5296d9dfef2/200x200.jpeg' /><img style='width: 160px; margin: 0px;                   float: left; border: 1px solid black;' src='https://media.sketchfab.com/urls/8f7747a44906454cb829c2746114c66d/dist/thumbnails/7574d79064514ffbb8383784dc874566/200x200.jpeg' /><img style='width: 160px; margin: 0px;                   float: left; border: 1px solid black;' src='https://media.sketchfab.com/urls/185e293d8ab84977bda7d835767ac756/dist/thumbnails/48f58fb50a7a46f2ad961eef7e0e4662/200x200.jpeg' />"
      ],
      "text/plain": [
       "<IPython.core.display.HTML object>"
      ]
     },
     "metadata": {},
     "output_type": "display_data"
    }
   ],
   "source": [
    "# One more for good luck\n",
    "rand_model = np.random.randint(0, len(idx_to_mid))\n",
    "display_thumbs(get_thumbnails(bestALS, rand_model, idx_to_mid))"
   ]
  },
  {
   "cell_type": "markdown",
   "metadata": {},
   "source": [
    "While the recommendations may not be perfect (see police car + green monster above), it's obvious that our recommendation model has learned similarities.\n",
    "\n",
    "Take a step back and think about this for a second: \n",
    "\n",
    "Our algorithm knows nothing about what these models look like, what tags they may have on them, or anything about the artists. The algorithm simply knows which users have liked which models. Pretty creepy, huh?\n",
    "\n",
    "## What's next?\n",
    "\n",
    "Today we learned Weighted Regularized Matrix Factorization, the classic rock of implicit MF. Next time, we'll learn about another method of optimizing implicit feedback models called Learning to Rank. With Learning to Rank models, we'll be able to include extra information about the models and users such as the categories and tags assigned to the models. After that, we'll see how an unsupervised recommendation using images and pretrained neural networks compares to these methods, and then finally we'll build a flask app to serve these recommendations to an end user.\n",
    "\n",
    "Stay tuned!"
   ]
  }
 ],
 "metadata": {
  "kernelspec": {
   "display_name": "Python 3",
   "language": "python",
   "name": "python3"
  },
  "language_info": {
   "codemirror_mode": {
    "name": "ipython",
    "version": 3
   },
   "file_extension": ".py",
   "mimetype": "text/x-python",
   "name": "python",
   "nbconvert_exporter": "python",
   "pygments_lexer": "ipython3",
   "version": "3.6.1"
  }
 },
 "nbformat": 4,
 "nbformat_minor": 1
}
