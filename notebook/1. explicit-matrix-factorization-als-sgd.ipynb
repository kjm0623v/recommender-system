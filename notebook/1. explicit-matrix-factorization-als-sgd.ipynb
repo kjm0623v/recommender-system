{
 "cells": [
  {
   "cell_type": "markdown",
   "metadata": {},
   "source": [
    "아래 내용은 Ethan Rosenthal의 블로그의 내용과 소스코드를 바탕으로 번역 및 일부 수정한 내용입니다.\n",
    "\n",
    "원본을 보시고 싶으신 분은 아래 사이트를 방문해주세요\n",
    "\n",
    "- 블로그: http://blog.ethanrosenthal.com/\n",
    "- github: https://github.com/EthanRosenthal/DataPiques_source"
   ]
  },
  {
   "cell_type": "markdown",
   "metadata": {},
   "source": [
    "앞으로 몇 번에 걸쳐서 collaborative filtering에 속해있는 Matrix Factorization(MF)을 살펴볼 예정입니다. 이 페이지에서는 MF의 목적 함수를 정의하고 이를 학습하는 대표적인 방법 2가지 ALS, SGD의 알고리즘을 살펴보고 구현 할 것입니다.\n",
    "\n",
    "### Matrix factorization 가정 \n",
    "- 각 user는 k개의 feature로 이루어진 vector로 표현될 수 있으며 각 feature는 user가 SF 영화를 얼마나 좋아하는 지 등의 특징을 나타낸다. (user의 item에 대한 선호도)\n",
    "- 각 item은 k개의 feature로 이루어진 vector로 표현될 수 있으며 각 feature는 item이 얼마나 SF 영화에 가까운 장르인지를 나타낸다. \n",
    "(item의 특징)\n",
    "- user vector와 item vector의 각각 매칭되는 feature들을 곱한 뒤 모두 더하면(*내적*) 이는 user가 item에 대한 예상 평점이라고 볼 수 있다.\n",
    "\n",
    "위 가정에서 좋은 점은 우리가 k개의 feature 개수만 정해주고 아무런 개입없이 학습만 시켜주면 해당되는 값을 얻을 수 있다는 점이다. <br>\n",
    "그럼 이제, 학습을 위한 목적 함수를 만들어보자.\n",
    "\n",
    "### 목적 함수 \n",
    "\n",
    "먼저 함수에 사용할 항들의 notation을 짚고 넘어가자. $k$는 feature의 개수, $\\textbf{x}_{u}$는 u번째 user의 vector, $\\textbf{y}_{i}$는 i번째 item의 vector이다. 위에서 가정했듯, $\\textbf{x}_{u}$, $\\textbf{y}_{i}$을 내적하면 예상 평점을 구할 수 있다. 아래와 같이 $\\hat r_{ui}$를 우리가 얻은 vector로부터 구한 예상 평점이라고 하자.\n",
    "\n",
    "$$\\hat r_{ui} = \\textbf{x}_{u}^{\\intercal} \\cdot{} \\textbf{y}_{i} = \\sum\\limits_{k} x_{uk}y_{ki}$$\n",
    "\n",
    "자, 그럼 학습 시킬 때의 진짜 평점도 있을 것이다. 이는 $r_{ui}$로 두자. 이제 목적 함수를 만들기 위한 준비가 끝났다.\n",
    "\n",
    "Matrix factorization을 통해 궁극적으로 원하는 내용은 ***우리가 나타낸 k개의 feature(혹은 latent factor)로 이루어진 user, item으로부터 예상 평점을 구했을 때 진짜 평점과 완전히 같은 것.*** 이다. 이를 식으로 나타내면 아래와 같으며 $L$을 최소화 시켰을 때 우리가 원하는 $\\textbf{x}_{u}$, $\\textbf{y}_{i}$을 구할 수 있다. 뒤 항들은 생소할 수 있는데 overfitting을 막기 위해 $L_{2}$ regularization term을 적용한 것이다.\n",
    "\n",
    "$$L = \\sum\\limits_{u,i \\in S}(r_{ui} - \\textbf{x}_{u}^{\\intercal} \\cdot{} \\textbf{y}_{i})^{2} + \\lambda_{x} \\sum\\limits_{u} \\left\\Vert \\textbf{x}_{u} \\right\\Vert^{2} + \\lambda_{y} \\sum\\limits_{u} \\left\\Vert \\textbf{y}_{i} \\right\\Vert^{2}$$\n",
    "\n",
    "목적 함수를 정의했으니 이를 어떻게 학습할 건지에 대한 방법을 정해야 한다. 위에서 소개했듯 ALS, SGD를 차례로 보도록 하겠다.\n",
    "\n",
    "### Alternaing Least Squares (ALS)\n",
    "\n",
    "ALS 방법은 지금 우리가 학습시켜야 할 항이 2개 ($\\textbf{x}_{u}, \\textbf{y}_{i}$)가 있는데 $\\textbf{x}_{u}$를 학습할 때는 $\\textbf{y}_{i}$를 상수로 두고, 반대로 $\\textbf{y}_{i}$를 학습할 때는 $\\textbf{x}_{u}$를 상수로 두고 학습한다.\n",
    "\n",
    "수식을 통해 보면 좀 더 이해가 잘 된다. 우리가 원하는 건 $L$이 최소값일 때의 $\\textbf{x}_{u}$를 구하는 것이므로 $\\dfrac{\\partial L}{\\partial \\textbf{x}_{u}} = 0$ 을 만족하는 $\\textbf{x}_{u}$ 값을 구해주면 된다. 이게 성립하는 이유는 $\\textbf{y}_{i}$ 항을 \n",
    "상수로 뒀기 때문에 $\\textbf{x}_{u}$에 대한 식만 풀면 되고 *convex* 해서 그냥 등식을 풀어주면 되기 때문이다. \n",
    "\n",
    "그래서 최종적으로 $\\textbf{x}_{u}^{\\intercal} = \\textbf{r}_{u}Y(Y^{\\intercal}Y + \\lambda_{x}I)^{-1}$ 값으로 update를 해주면 된다.\n",
    "\n",
    "$$\\frac{\\partial L}{\\partial \\textbf{x}_{u}} = - 2 \\sum\\limits_{i}(r_{ui} - \\textbf{x}_{u}^{\\intercal} \\cdot{} \\textbf{y}_{i}) \\textbf{y}_{i}^{\\intercal} + 2 \\lambda_{x} \\textbf{x}_{u}^{\\intercal}$$\n",
    "\n",
    "$$0 = -(\\textbf{r}_{u} - \\textbf{x}_{u}^{\\intercal} Y^{\\intercal})Y + \\lambda_{x} \\textbf{x}_{u}^{\\intercal}$$\n",
    "\n",
    "$$\\textbf{x}_{u}^{\\intercal}(Y^{\\intercal}Y + \\lambda_{x}I) = \\textbf{r}_{u}Y$$\n",
    "\n",
    "$$\\textbf{x}_{u}^{\\intercal} = \\textbf{r}_{u}Y(Y^{\\intercal}Y + \\lambda_{x}I)^{-1}$$\n",
    "\n",
    "$\\textbf{y}_{i}$에 대해서도 마찬가지이다. 위와 같이 수식을 풀어서 쓰면 아래 등식을 푸는 과정이 되고 최종적으로 \n",
    "$ \\textbf{y}_{i}^{\\intercal} =  \\textbf{r}_{i} X  ( X^{\\intercal}X +  \\lambda_{y}I) ^{-1}$ 값을 update 해주면 된다.\n",
    "\n",
    "\n",
    "$$\\frac{\\partial L}{\\partial \\textbf{y}_{i}} = - 2 \\sum\\limits_{i}(r_{iu} - \\textbf{y}_{i}^{\\intercal} \\cdot{} \\textbf{x}_{u}) \\textbf{x}_{u}^{\\intercal} + 2 \\lambda_{y} \\textbf{y}_{i}^{\\intercal}$$\n",
    "\n",
    "$$0 = -(\\textbf{r}_{i} - \\textbf{y}_{i}^{\\intercal} X^{\\intercal})X + \\lambda_{y} \\textbf{y}_{i}^{\\intercal}$$\n",
    "\n",
    "$$ \\textbf{y}_{i}^{\\intercal} ( X^{\\intercal}X +  \\lambda_{y}I) =  \\textbf{r}_{i} X$$\n",
    "\n",
    "$$ \\textbf{y}_{i}^{\\intercal} =  \\textbf{r}_{i} X  ( X^{\\intercal}X +  \\lambda_{y}I) ^{-1}$$\n",
    "\n",
    "#### ALS 내용을 정리해보자. <br>\n",
    "1. user, item을 학습시켜야 하는데 한 쪽을 학습시킬 때는 다른 한 쪽은 상수로 취급한다.\n",
    "2. 한 쪽이 상수로 취급되면 목적함수가 최소일 때의 user(혹은 item) vector 값을 등식 계산을 통해 얻을 수 있다.\n",
    "3. 2번 과정을 계속 반복하면 최적의 user, item vector를 구할 수 있다. "
   ]
  },
  {
   "cell_type": "markdown",
   "metadata": {},
   "source": [
    "### 코드 구현\n",
    "\n",
    "아래 코드에서는 위에서 언급한 목적 함수를 구현하고, ALS 방법을 통해서 user, item의 vector를 학습시킨다."
   ]
  },
  {
   "cell_type": "code",
   "execution_count": 7,
   "metadata": {
    "collapsed": true
   },
   "outputs": [],
   "source": [
    "import numpy as np\n",
    "import pandas as pd\n",
    "\n",
    "# seed를 지정한다. \n",
    "np.random.seed(0)"
   ]
  },
  {
   "cell_type": "code",
   "execution_count": 8,
   "metadata": {
    "scrolled": true
   },
   "outputs": [
    {
     "ename": "SyntaxError",
     "evalue": "invalid syntax (<ipython-input-8-074ad1f07ada>, line 2)",
     "output_type": "error",
     "traceback": [
      "\u001b[0;36m  File \u001b[0;32m\"<ipython-input-8-074ad1f07ada>\"\u001b[0;36m, line \u001b[0;32m2\u001b[0m\n\u001b[0;31m    cd ../dataset/ml-100k/\u001b[0m\n\u001b[0m        ^\u001b[0m\n\u001b[0;31mSyntaxError\u001b[0m\u001b[0;31m:\u001b[0m invalid syntax\n"
     ]
    }
   ],
   "source": [
    "# 데이터가 있는 파일로 폴더를 지정한다. \n",
    "cd ../dataset/ml-100k/"
   ]
  },
  {
   "cell_type": "code",
   "execution_count": 29,
   "metadata": {
    "collapsed": true
   },
   "outputs": [],
   "source": [
    "# 데이터 불러오기\n",
    "names = ['user_id', 'item_id', 'rating', 'timestamp']\n",
    "df = pd.read_csv('u.data', sep='\\t', names=names)\n",
    "\n",
    "# user_item 형식으로 평점 데이터를 만든다. (user: 행, item: 열)\n",
    "ratings = df.groupby(['user_id', 'item_id'])['rating'].mean().unstack().fillna(0).values\n",
    "\n",
    "# user가 가장 적게 rating한 수를 확인하자. -> 20인데, 우리는 test 데이터를 만들 때 user 별로 10개씩 뽑아서 만들 생각이다. \n",
    "min_rating_count = min([len(ratings[i].nonzero()[0]) for i in range(ratings.shape[0])])\n",
    "\n",
    "# training, test 데이터로 나눈다.\n",
    "# test는 0으로 이루어진 행열을 만들어주고 전체 데이터에서 0이 아닌 값을 user 별로 10개씩 뽑아서 넣어준다.\n",
    "# train은 반대로 뽑힌 값을 0으로 만들어준다. \n",
    "def train_test_split(ratings):\n",
    "    test = np.zeros(ratings.shape)\n",
    "    train = ratings.copy()\n",
    "    for user in xrange(ratings.shape[0]):\n",
    "        # user 별로 zero가 아닌 값을 10개 뽑고 train은 0의 값을, test에는 실제 값을 입력해준다. \n",
    "        test_ratings = np.random.choice(ratings[user, :].nonzero()[0], \n",
    "                                        size=10, \n",
    "                                        replace=False)\n",
    "        train[user, test_ratings] = 0.\n",
    "        test[user, test_ratings] = ratings[user, test_ratings]\n",
    "        \n",
    "    # train, test set은 곱할 경우 모두 0의 값을 갖게 된다. \n",
    "    assert(np.all((train * test) == 0)) \n",
    "    return train, test\n",
    "\n",
    "train, test = train_test_split(ratings)"
   ]
  },
  {
   "cell_type": "markdown",
   "metadata": {},
   "source": [
    "### 데이터셋\n",
    "- train: 전체 데이터에서 user 별로 10개씩 평점을 제외한 데이터 \n",
    "- test: user 별로 10개씩 평점을 가진 데이터 \n",
    "\n",
    "### 평가방법\n",
    "- mse: \n",
    "    - train: train의 non-zero 데이터와 그에 맞는 예측된 데이터를 비교한다. (train 데이터는 모두 본 적이 있는 데이터이다.)\n",
    "    - test: test의 non-zero 데이터와 그에 맞는 예측된 데이터를 비교한다. (train할 때 본 적이 없는 데이터이므로 test이다.)"
   ]
  },
  {
   "cell_type": "code",
   "execution_count": 33,
   "metadata": {
    "collapsed": true
   },
   "outputs": [],
   "source": [
    "from sklearn.metrics import mean_squared_error\n",
    "\n",
    "def get_mse(pred, actual):\n",
    "    # 올바른 평가를 위해서 actual(전부) 데이터에서 zero가 아닌 값과 pred(예측) 값을 비교한다. \n",
    "    pred = pred[actual.nonzero()].flatten()\n",
    "    actual = actual[actual.nonzero()].flatten()\n",
    "    return mean_squared_error(pred, actual)"
   ]
  },
  {
   "cell_type": "code",
   "execution_count": 34,
   "metadata": {
    "collapsed": true
   },
   "outputs": [],
   "source": [
    "# np.linalg.solve는 linear matrix equation의 해를 구하는 함수이다. \n",
    "from numpy.linalg import solve\n",
    "\n",
    "class ExplicitMF():\n",
    "    def __init__(self, \n",
    "                 ratings, \n",
    "                 n_factors=40, \n",
    "                 item_reg=0.0, \n",
    "                 user_reg=0.0,\n",
    "                 verbose=False):\n",
    "        \"\"\"\n",
    "        matrix factorization 모델을 학습해서 sparse한 데이터에 대한 \n",
    "        예측이 목적이다. ratings는 user x item 형식의 행렬로 가정한다. \n",
    "        \n",
    "        Params\n",
    "        ======\n",
    "        ratings : (ndarray)\n",
    "            User x Item 행렬이며 평점 값을 갖는다. \n",
    "        \n",
    "        n_factors : (int)\n",
    "            factor의 수로 사용할 k의 값. item, user의 vector 차원을 나타낸다. \n",
    "        \n",
    "        item_reg : (float)\n",
    "            item factor에 대한 regularization term\n",
    "        \n",
    "        user_reg : (float)\n",
    "            user factor에 대한 regularization term\n",
    "        \n",
    "        verbose : (bool)\n",
    "            학습 결과 출력 여부 \n",
    "        \"\"\"\n",
    "        \n",
    "        self.ratings = ratings\n",
    "        self.n_users, self.n_items = ratings.shape\n",
    "        self.n_factors = n_factors\n",
    "        self.item_reg = item_reg\n",
    "        self.user_reg = user_reg\n",
    "        self._v = verbose\n",
    "\n",
    "    def als_step(self,\n",
    "                 latent_vectors,\n",
    "                 fixed_vecs,\n",
    "                 ratings,\n",
    "                 _lambda,\n",
    "                 type='user'):\n",
    "        \"\"\"\n",
    "        user 혹은 item에 대해 각각 번갈아서 update하는 step이다. \n",
    "        type에 지정해주면 다른 항을 상수로 지정한 뒤 update 값을 구해서 반환해준다. \n",
    "        \"\"\"\n",
    "        if type == 'user':            \n",
    "            YTY = fixed_vecs.T.dot(fixed_vecs)\n",
    "            lambdaI = np.eye(YTY.shape[0]) * _lambda\n",
    "\n",
    "            for u in xrange(latent_vectors.shape[0]):\n",
    "                latent_vectors[u, :] = solve((YTY + lambdaI), \n",
    "                                             ratings[u, :].dot(fixed_vecs))\n",
    "        elif type == 'item':\n",
    "            XTX = fixed_vecs.T.dot(fixed_vecs)\n",
    "            lambdaI = np.eye(XTX.shape[0]) * _lambda\n",
    "            \n",
    "            for i in xrange(latent_vectors.shape[0]):\n",
    "                latent_vectors[i, :] = solve((XTX + lambdaI), \n",
    "                                             ratings[:, i].T.dot(fixed_vecs))\n",
    "        return latent_vectors\n",
    "\n",
    "    def train(self, n_iter=10):\n",
    "        \"\"\" scratch부터 모델을 학습시킨다.\"\"\"\n",
    "        # 초기 user vector, item vector 값을 지정해준다. \n",
    "        self.user_vecs = np.random.random((self.n_users, self.n_factors))\n",
    "        self.item_vecs = np.random.random((self.n_items, self.n_factors))\n",
    "        \n",
    "        self.partial_train(n_iter)\n",
    "    \n",
    "    def partial_train(self, n_iter):\n",
    "        \"\"\" \n",
    "        학습된 모델을 계속해서 학습하고 싶을 때 사용한다. n_iter만큼 추가 학습한다.\n",
    "        \"\"\"\n",
    "        ctr = 1\n",
    "        while ctr <= n_iter:\n",
    "            if ctr % 10 == 0 and self._v:\n",
    "                print '\\tcurrent iteration: {}'.format(ctr)\n",
    "            self.user_vecs = self.als_step(self.user_vecs, \n",
    "                                           self.item_vecs, \n",
    "                                           self.ratings, \n",
    "                                           self.user_reg, \n",
    "                                           type='user')\n",
    "            self.item_vecs = self.als_step(self.item_vecs, \n",
    "                                           self.user_vecs, \n",
    "                                           self.ratings, \n",
    "                                           self.item_reg, \n",
    "                                           type='item')\n",
    "            ctr += 1\n",
    "    \n",
    "    def predict_all(self):\n",
    "        \"\"\" \n",
    "        전체 user, item에 대한 예측 평점을 반환한다. 연산량이 크다.\n",
    "        \"\"\"\n",
    "        predictions = np.zeros((self.user_vecs.shape[0], \n",
    "                                self.item_vecs.shape[0]))\n",
    "        for u in xrange(self.user_vecs.shape[0]):\n",
    "            for i in xrange(self.item_vecs.shape[0]):\n",
    "                predictions[u, i] = self.predict(u, i)\n",
    "                \n",
    "        return predictions\n",
    "    \n",
    "    def predict(self, u, i):\n",
    "        \"\"\" 1개 user, 1개 item에 대한 예측 평점을 반환한다. \"\"\"\n",
    "        return self.user_vecs[u, :].dot(self.item_vecs[i, :].T)\n",
    "        \n",
    "    def calculate_learning_curve(self, iter_array, test):\n",
    "        \"\"\"\n",
    "        training시 iteration에 따른 MSE를 반환해준다. \n",
    "        \n",
    "        Params\n",
    "        ======\n",
    "        iter_array : (list)\n",
    "            learning curve에서 중간 상황을 보여줄 iteration 값 지정 e.g. [1, 5, 10, 20]\n",
    "        test : (2D ndarray)\n",
    "            테스트 데이터셋 (assumed to be user x item).\n",
    "        \n",
    "        새로 생기는 class attributes:\n",
    "        \n",
    "        train_mse : (list)\n",
    "            iter_array에 따른 Train 데이터 MSE 값\n",
    "        test_mse : (list)\n",
    "            iter_array에 따른 Test 데이터 MSE 값\n",
    "        \"\"\"\n",
    "        iter_array.sort()\n",
    "        self.train_mse =[]\n",
    "        self.test_mse = []\n",
    "        iter_diff = 0\n",
    "        \n",
    "        # iteration에 따른 에러율 확인\n",
    "        for (i, n_iter) in enumerate(iter_array):\n",
    "            # verbose == True이면 학습 내용 출력\n",
    "            if self._v:\n",
    "                print 'Iteration: {}'.format(n_iter)\n",
    "            # 처음부터 학습\n",
    "            if i == 0:\n",
    "                self.train(n_iter - iter_diff)\n",
    "            # 계속해서 학습\n",
    "            else:\n",
    "                self.partial_train(n_iter - iter_diff)\n",
    "            # 전체에 대한 prediction 값 구하기 \n",
    "            predictions = self.predict_all()\n",
    "            \n",
    "            # mse 값을 확인하자. \n",
    "            self.train_mse += [get_mse(predictions, self.ratings)]\n",
    "            self.test_mse += [get_mse(predictions, test)]\n",
    "            if self._v:\n",
    "                print 'Train mse: ' + str(self.train_mse[-1])\n",
    "                print 'Test mse: ' + str(self.test_mse[-1])\n",
    "            iter_diff = n_iter"
   ]
  },
  {
   "cell_type": "markdown",
   "metadata": {},
   "source": [
    "40 latent factor로 regularization 없이 시도해보고 learning curve를 그려보자."
   ]
  },
  {
   "cell_type": "code",
   "execution_count": 35,
   "metadata": {
    "collapsed": true
   },
   "outputs": [],
   "source": [
    "MF_ALS = ExplicitMF(train, n_factors=40, \\\n",
    "                    user_reg=0.0, item_reg=0.0)\n",
    "iter_array = [1, 2, 5, 10, 25, 50, 100]\n",
    "MF_ALS.calculate_learning_curve(iter_array, test)"
   ]
  },
  {
   "cell_type": "code",
   "execution_count": 36,
   "metadata": {
    "collapsed": true
   },
   "outputs": [],
   "source": [
    "%matplotlib inline\n",
    "import matplotlib.pyplot as plt\n",
    "import seaborn as sns\n",
    "sns.set()\n",
    "\n",
    "def plot_learning_curve(iter_array, model):\n",
    "    plt.plot(iter_array, model.train_mse, \\\n",
    "             label='Training', linewidth=5)\n",
    "    plt.plot(iter_array, model.test_mse, \\\n",
    "             label='Test', linewidth=5)\n",
    "\n",
    "\n",
    "    plt.xticks(fontsize=16);\n",
    "    plt.yticks(fontsize=16);\n",
    "    plt.xlabel('iterations', fontsize=30);\n",
    "    plt.ylabel('MSE', fontsize=30);\n",
    "    plt.legend(loc='best', fontsize=20);"
   ]
  },
  {
   "cell_type": "code",
   "execution_count": 37,
   "metadata": {},
   "outputs": [
    {
     "data": {
      "image/png": "[encoded data removed]",
      "text/plain": [
       "<matplotlib.figure.Figure at 0x7fd9f4a49d50>"
      ]
     },
     "metadata": {},
     "output_type": "display_data"
    }
   ],
   "source": [
    "plot_learning_curve(iter_array, MF_ALS)"
   ]
  },
  {
   "cell_type": "markdown",
   "metadata": {},
   "source": [
    "### 평가 및 개선 작업\n",
    "\n",
    "overfitting이 일어나서 training error는 낮고 test error는 높은 것으로 보인다. 이제 hyperparameter들을 모아서 적절한 값을 찾아보자. 사용할 방법은 Grid-search를 사용할 것이며 코드가 최적화가 되어 있지 않아서 느리므로 적당한 수의 hyperparameter로 테스트 해 보길 바란다."
   ]
  },
  {
   "cell_type": "code",
   "execution_count": 41,
   "metadata": {},
   "outputs": [
    {
     "name": "stdout",
     "output_type": "stream",
     "text": [
      "Factors: 5\n",
      "Regularization: 0.01\n",
      "New optimal hyperparameters\n",
      "model        <__main__.ExplicitMF instance at 0x7fd9f1c3b7a0>\n",
      "n_factors                                                   5\n",
      "n_iter                                                      5\n",
      "reg                                                      0.01\n",
      "test_mse                                              8.74779\n",
      "train_mse                                              6.1493\n",
      "dtype: object\n",
      "Regularization: 0.1\n",
      "Factors: 10\n",
      "Regularization: 0.01\n",
      "New optimal hyperparameters\n",
      "model        <__main__.ExplicitMF instance at 0x7fd9f4a3fd88>\n",
      "n_factors                                                  10\n",
      "n_iter                                                      5\n",
      "reg                                                      0.01\n",
      "test_mse                                               8.1177\n",
      "train_mse                                             5.41917\n",
      "dtype: object\n",
      "Regularization: 0.1\n",
      "Factors: 20\n",
      "Regularization: 0.01\n",
      "New optimal hyperparameters\n",
      "model        <__main__.ExplicitMF instance at 0x7fd9f1ae6bd8>\n",
      "n_factors                                                  20\n",
      "n_iter                                                      5\n",
      "reg                                                      0.01\n",
      "test_mse                                              8.05206\n",
      "train_mse                                             4.81391\n",
      "dtype: object\n",
      "Regularization: 0.1\n"
     ]
    }
   ],
   "source": [
    "# Grid-search 수행할 hyperparamter 값\n",
    "latent_factors = [5, 10, 20] # 40, 80]\n",
    "regularizations = [0.01, 0.1] # 1., 10., 100.]\n",
    "regularizations.sort()\n",
    "iter_array = [1, 2, 5] # 10, 25, 50, 100]\n",
    "\n",
    "# parameter 초기 저장 값(의미 없음) 지정. \n",
    "best_params = {}\n",
    "best_params['n_factors'] = latent_factors[0]\n",
    "best_params['reg'] = regularizations[0]\n",
    "best_params['n_iter'] = 0\n",
    "best_params['train_mse'] = np.inf\n",
    "best_params['test_mse'] = np.inf\n",
    "best_params['model'] = None\n",
    "\n",
    "# 위 parameter들에 대해서 학습하고 성능이 가장 좋은 hyperparameter를 기억한다. \n",
    "for fact in latent_factors:\n",
    "    print 'Factors: {}'.format(fact)\n",
    "    for reg in regularizations:\n",
    "        print 'Regularization: {}'.format(reg)\n",
    "        MF_ALS = ExplicitMF(train, n_factors=fact, \\\n",
    "                            user_reg=reg, item_reg=reg)\n",
    "        MF_ALS.calculate_learning_curve(iter_array, test)\n",
    "        min_idx = np.argmin(MF_ALS.test_mse)\n",
    "        if MF_ALS.test_mse[min_idx] < best_params['test_mse']:\n",
    "            best_params['n_factors'] = fact\n",
    "            best_params['reg'] = reg\n",
    "            best_params['n_iter'] = iter_array[min_idx]\n",
    "            best_params['train_mse'] = MF_ALS.train_mse[min_idx]\n",
    "            best_params['test_mse'] = MF_ALS.test_mse[min_idx]\n",
    "            best_params['model'] = MF_ALS\n",
    "            print 'New optimal hyperparameters'\n",
    "            print pd.Series(best_params)"
   ]
  },
  {
   "cell_type": "code",
   "execution_count": 43,
   "metadata": {
    "scrolled": true
   },
   "outputs": [
    {
     "data": {
      "text/plain": [
       "{'model': <__main__.ExplicitMF instance at 0x7fd9f1ae6bd8>,\n",
       " 'n_factors': 20,\n",
       " 'n_iter': 5,\n",
       " 'reg': 0.01,\n",
       " 'test_mse': 8.0520565418181587,\n",
       " 'train_mse': 4.8139088724887973}"
      ]
     },
     "execution_count": 43,
     "metadata": {},
     "output_type": "execute_result"
    }
   ],
   "source": [
    "best_params"
   ]
  },
  {
   "cell_type": "code",
   "execution_count": 42,
   "metadata": {},
   "outputs": [
    {
     "data": {
      "image/png": "[encoded data removed]",
      "text/plain": [
       "<matplotlib.figure.Figure at 0x7fd9f1b1ad90>"
      ]
     },
     "metadata": {},
     "output_type": "display_data"
    }
   ],
   "source": [
    "best_als_model = best_params['model']\n",
    "plot_learning_curve(iter_array, best_als_model)"
   ]
  },
  {
   "cell_type": "markdown",
   "metadata": {},
   "source": [
    "best parameter는 factor가 20, reg이 0.01일 때로 hyperparameter 조절을 통해 위에서 본 결과보다 test error를 어느 정도 개선하고 overfitting 문제를 일부 해결했다. 아래에서 SGD까지 보고 item 간 similarity를 살펴보도록 하자. \n",
    "\n",
    "### Stochastic Gradient Descent (SGD)\n",
    "\n",
    "SGD에서도 위 ALS에서 사용한 목적 함수를 그대로 사용하며 학습 방법만 약간의 차이가 있다. ALS에서는 user를 update할 때는 item을 상수로 두고 등식을 풀었는데 SGD에서는 두 항에 대해서 각각 gradient를 구한 뒤 현재 값에 일부 update를 시켜서 수렴할 때까지 update를 하는 방식을 취한다.\n",
    "\n",
    "SGD를 다룰 떄 추가적인 항들을 넣어줄 것인데 바로 ***bias***이다. user 중에는 남들보다 조금 더 비판적인 사람이 있을 수 있고 관대한 사람들도 있을 수 있다. item도 지금 상황에 특정 장르가 인기가 많을 수도 있고 적을 수도 있다. 이런 특징들을 반영해주는 것이 bias이다. \n",
    "\n",
    "bias를 추가해서 예상 평점을 식으로 나타내면 아래와 같다. 여기서 $\\mu$는 overall average rating으로 전체적인 rating의 평균을 나타내서 평점이 이를 기준으로 bias를 고려해서 위 아래로 나타나도록 하는 역할을 한다. $$ \\hat r_{ui} = \\mu + b_{u} + b_{i} + \\textbf{x}_{u}^{\\intercal} \\cdot{} \\textbf{y}_{i} $$ \n",
    "\n",
    "목적 함수를 다시 정의하면 아래 식이 된다. \n",
    "$$L = \\sum\\limits_{u,i}(r_{ui} - (\\mu + b_{u} + b_{i} + \\textbf{x}_{u}^{\\intercal} \\cdot{} \\textbf{y}_{i}))^{2} + \n",
    "\\lambda_{xb} \\sum\\limits_{u} \\left\\Vert b_{u} \\right\\Vert^{2} + \\lambda_{yb} \\sum\\limits_{i} \\left\\Vert b_{i} \\right\\Vert^{2} + \\lambda_{xf} \\sum\\limits_{u} \\left\\Vert \\textbf{x}_{u} \\right\\Vert^{2} + \\lambda_{yf} \\sum\\limits_{u} \\left\\Vert \\textbf{y}_{i} \\right\\Vert^{2}$$\n",
    "\n",
    "각 항 별로, gradient를 구해서 $\\eta$(learning rate) 만큼 update를 시켜줘야 한다. 예시로 $b_u$에 대해서만 구해보도록 하자.\n",
    "아래 식에서 $e_{ui}$는 예측에 대한 error를 나타낸다. \n",
    "\n",
    "$$ b_{u} \\leftarrow b_{u} - \\eta \\frac{\\partial L}{\\partial b_{u}} $$\n",
    "\n",
    "$$ \\frac{\\partial L}{\\partial b_{u}} = 2(r_{ui} - (\\mu + b_{u} + b_{i} + \\textbf{x}_{u}^{\\intercal} \\cdot{} \\textbf{y}_{i}))(-1) + 2\\lambda_{xb} b_{u} $$\n",
    "$$ \\frac{\\partial L}{\\partial b_{u}} = 2(e_{ui})(-1) + 2\\lambda_{xb} b_{u} $$\n",
    "$$ \\frac{\\partial L}{\\partial b_{u}} = - e_{ui} + \\lambda_{xb} b_{u} $$\n",
    "\n",
    "위와 같은 전개를 통해서 gradient를 구했고 구한 gradient를 기존 항에 update를 시켜주면 된다. 나머지 항들에 대해서도 같은 방법으로 적용이 되며 최종적으로 아래 4개 항에 대해서 동시에 update가 진행된다. \n",
    "\n",
    "$$ b_{u} \\leftarrow b_{u} + \\eta \\, (e_{ui} - \\lambda_{xb} b_{u}) $$\n",
    "$$ b_{i} \\leftarrow b_{i} + \\eta \\, (e_{ui} - \\lambda_{yb} b_{i}) $$\n",
    "$$ \\textbf{x}_{u} \\leftarrow \\textbf{x}_{u} + \\eta \\, (e_{ui}\\textbf{y}_{i} - \\lambda_{xf} \\textbf{x}_{u}) $$\n",
    "$$ \\textbf{y}_{i} \\leftarrow \\textbf{y}_{i} + \\eta \\, (e_{ui}\\textbf{x}_{u} - \\lambda_{yf} \\textbf{y}_{i}) $$\n",
    "\n",
    "#### SGD 내용을 정리해보자.\n",
    "1. user, item에 대한 bias를 각각 추가한다. regularization term에도 고려한다.\n",
    "2. user, item, bias를 구하는 것이 최종 목적이며 ALS와 다르게 어떤 항도 상수로 두지 않는다.\n",
    "3. 항이 여러 개이므로 최적의 값을 바로 구할 수 없고 항 별로 현재 상태에서 $L$에 대한 gradient를 구한 뒤 이를 update해서 $L$이 최소가 되는 값으로 나아가는 방법을 써야한다. (Gradient Descent)\n",
    "4. 3번 과정을 계속 반복하면 최적은 user, item, bias를 구할 수 있다."
   ]
  },
  {
   "cell_type": "code",
   "execution_count": 44,
   "metadata": {
    "collapsed": true
   },
   "outputs": [],
   "source": [
    "class ExplicitMF():\n",
    "    def __init__(self, \n",
    "                 ratings,\n",
    "                 n_factors=40,\n",
    "                 learning='sgd',\n",
    "                 item_fact_reg=0.0, \n",
    "                 user_fact_reg=0.0,\n",
    "                 item_bias_reg=0.0,\n",
    "                 user_bias_reg=0.0,\n",
    "                 verbose=False):\n",
    "        \"\"\"\n",
    "        matrix factorization 모델을 학습해서 sparse한 데이터에 대한 \n",
    "        예측이 목적이다. ratings는 user x item 형식의 행렬로 가정한다. \n",
    "        \n",
    "        Params\n",
    "        ======\n",
    "        ratings : (ndarray)\n",
    "            User x Item 행렬이며 평점 값을 갖는다. \n",
    "        \n",
    "        n_factors : (int)\n",
    "            factor의 수로 사용할 k의 값. item, user의 vector 차원을 나타낸다. \n",
    "\n",
    "        learning : (str)\n",
    "            optimization 방법. 'sgd' 혹은 'als' 중 선택.\n",
    "        \n",
    "        item_fact_reg : (float)\n",
    "            item factor에 대한 regularization term\n",
    "        \n",
    "        user_fact_reg : (float)\n",
    "            user factor에 대한 regularization term\n",
    "            \n",
    "        item_bias_reg : (float)\n",
    "            item bias에 대한 regularization term\n",
    "\n",
    "        user_bias_reg : (float)\n",
    "            user bias에 대한 regularization term\n",
    "        \n",
    "        verbose : (bool)\n",
    "            학습 결과 출력 여부 \n",
    "        \"\"\"\n",
    "        \n",
    "        self.ratings = ratings\n",
    "        self.n_users, self.n_items = ratings.shape\n",
    "        self.n_factors = n_factors\n",
    "        self.item_fact_reg = item_fact_reg\n",
    "        self.user_fact_reg = user_fact_reg\n",
    "        self.item_bias_reg = item_bias_reg\n",
    "        self.user_bias_reg = user_bias_reg\n",
    "        self.learning = learning\n",
    "        if self.learning == 'sgd':\n",
    "            self.sample_row, self.sample_col = self.ratings.nonzero()\n",
    "            self.n_samples = len(self.sample_row)\n",
    "        self._v = verbose\n",
    "    \n",
    "    def als_step(self,\n",
    "                 latent_vectors,\n",
    "                 fixed_vecs,\n",
    "                 ratings,\n",
    "                 _lambda,\n",
    "                 type='user'):\n",
    "        \"\"\"\n",
    "        user 혹은 item에 대해 각각 번갈아서 update하는 step이다. \n",
    "        type에 지정해주면 다른 항을 상수로 지정한 뒤 update 값을 구해서 반환해준다. \n",
    "        \"\"\"\n",
    "        if type == 'user':\n",
    "            # Precompute\n",
    "            YTY = fixed_vecs.T.dot(fixed_vecs)\n",
    "            lambdaI = np.eye(YTY.shape[0]) * _lambda\n",
    "\n",
    "            for u in xrange(latent_vectors.shape[0]):\n",
    "                latent_vectors[u, :] = solve((YTY + lambdaI), \n",
    "                                             ratings[u, :].dot(fixed_vecs))\n",
    "        elif type == 'item':\n",
    "            # Precompute\n",
    "            XTX = fixed_vecs.T.dot(fixed_vecs)\n",
    "            lambdaI = np.eye(XTX.shape[0]) * _lambda\n",
    "            \n",
    "            for i in xrange(latent_vectors.shape[0]):\n",
    "                latent_vectors[i, :] = solve((XTX + lambdaI), \n",
    "                                             ratings[:, i].T.dot(fixed_vecs))\n",
    "        return latent_vectors\n",
    "\n",
    "    def train(self, n_iter=10, learning_rate=0.1):\n",
    "        \"\"\" scratch부터 모델을 학습시킨다.\"\"\"\n",
    "        # initialize latent vectors        \n",
    "        self.user_vecs = np.random.normal(scale=1./self.n_factors,\\\n",
    "                                          size=(self.n_users, self.n_factors))\n",
    "        self.item_vecs = np.random.normal(scale=1./self.n_factors,\n",
    "                                          size=(self.n_items, self.n_factors))\n",
    "        \n",
    "        if self.learning == 'als':\n",
    "            self.partial_train(n_iter)\n",
    "        elif self.learning == 'sgd':\n",
    "            self.learning_rate = learning_rate\n",
    "            self.user_bias = np.zeros(self.n_users)\n",
    "            self.item_bias = np.zeros(self.n_items)\n",
    "            # global_bias는 전체 평균 값으로 지정해준다. \n",
    "            self.global_bias = np.mean(self.ratings[np.where(self.ratings != 0)])\n",
    "            self.partial_train(n_iter)\n",
    "    \n",
    "    \n",
    "    def partial_train(self, n_iter):\n",
    "        \"\"\" \n",
    "        학습된 모델을 계속해서 학습하고 싶을 때 사용한다. n_iter만큼 추가 학습한다.\n",
    "        \"\"\"\n",
    "        ctr = 1\n",
    "        while ctr <= n_iter:\n",
    "            if ctr % 10 == 0 and self._v:\n",
    "                print '\\tcurrent iteration: {}'.format(ctr)\n",
    "            if self.learning == 'als':\n",
    "                self.user_vecs = self.als_step(self.user_vecs, \n",
    "                                               self.item_vecs, \n",
    "                                               self.ratings, \n",
    "                                               self.user_fact_reg, \n",
    "                                               type='user')\n",
    "                self.item_vecs = self.als_step(self.item_vecs, \n",
    "                                               self.user_vecs, \n",
    "                                               self.ratings, \n",
    "                                               self.item_fact_reg, \n",
    "                                               type='item')\n",
    "            elif self.learning == 'sgd':\n",
    "                self.training_indices = np.arange(self.n_samples)\n",
    "                np.random.shuffle(self.training_indices)\n",
    "                self.sgd()\n",
    "            ctr += 1\n",
    "\n",
    "    def sgd(self):\n",
    "        \"\"\"sgd 학습 과정이다.\"\"\"\n",
    "        for idx in self.training_indices:\n",
    "            u = self.sample_row[idx]\n",
    "            i = self.sample_col[idx]\n",
    "            prediction = self.predict(u, i)\n",
    "            e = (self.ratings[u,i] - prediction) # error\n",
    "            \n",
    "            # Update biases\n",
    "            self.user_bias[u] += self.learning_rate * \\\n",
    "                                (e - self.user_bias_reg * self.user_bias[u])\n",
    "            self.item_bias[i] += self.learning_rate * \\\n",
    "                                (e - self.item_bias_reg * self.item_bias[i])\n",
    "            \n",
    "            # Update latent factors\n",
    "            self.user_vecs[u, :] += self.learning_rate * \\\n",
    "                                    (e * self.item_vecs[i, :] - \\\n",
    "                                     self.user_fact_reg * self.user_vecs[u,:])\n",
    "            self.item_vecs[i, :] += self.learning_rate * \\\n",
    "                                    (e * self.user_vecs[u, :] - \\\n",
    "                                     self.item_fact_reg * self.item_vecs[i,:])\n",
    "                \n",
    "    # r의 값을 구하는 과정이다. \n",
    "    def predict(self, u, i):\n",
    "        \"\"\"1개 user, 1개 item에 대한 예측 평점을 반환한다.\"\"\"\n",
    "        if self.learning == 'als':\n",
    "            return self.user_vecs[u, :].dot(self.item_vecs[i, :].T)\n",
    "        elif self.learning == 'sgd':\n",
    "            prediction = self.global_bias + self.user_bias[u] + self.item_bias[i]\n",
    "            prediction += self.user_vecs[u, :].dot(self.item_vecs[i, :].T)\n",
    "            return prediction\n",
    "    \n",
    "    def predict_all(self):\n",
    "        \"\"\" \n",
    "        전체 user, item에 대한 예측 평점을 반환한다. 연산량이 크다.\n",
    "        \"\"\"\n",
    "        predictions = np.zeros((self.user_vecs.shape[0], \n",
    "                                self.item_vecs.shape[0]))\n",
    "        for u in xrange(self.user_vecs.shape[0]):\n",
    "            for i in xrange(self.item_vecs.shape[0]):\n",
    "                predictions[u, i] = self.predict(u, i)\n",
    "                \n",
    "        return predictions\n",
    "    \n",
    "    def calculate_learning_curve(self, iter_array, test, learning_rate=0.1):\n",
    "        \"\"\"\n",
    "        training시 iteration에 따른 MSE를 반환해준다. \n",
    "        \n",
    "        Params\n",
    "        ======\n",
    "        iter_array : (list)\n",
    "            learning curve에서 중간 상황을 보여줄 iteration 값 지정 e.g. [1, 5, 10, 20]\n",
    "        test : (2D ndarray)\n",
    "            테스트 데이터셋 (assumed to be user x item).\n",
    "        \n",
    "        새로 생기는 class attributes:\n",
    "        \n",
    "        train_mse : (list)\n",
    "            iter_array에 따른 Train 데이터 MSE 값\n",
    "        test_mse : (list)\n",
    "            iter_array에 따른 Test 데이터 MSE 값\n",
    "        \"\"\"\n",
    "        iter_array.sort()\n",
    "        self.train_mse =[]\n",
    "        self.test_mse = []\n",
    "        iter_diff = 0\n",
    "        for (i, n_iter) in enumerate(iter_array):\n",
    "            if self._v:\n",
    "                print 'Iteration: {}'.format(n_iter)\n",
    "            if i == 0:\n",
    "                self.train(n_iter - iter_diff, learning_rate)\n",
    "            else:\n",
    "                self.partial_train(n_iter - iter_diff)\n",
    "\n",
    "            predictions = self.predict_all()\n",
    "\n",
    "            self.train_mse += [get_mse(predictions, self.ratings)]\n",
    "            self.test_mse += [get_mse(predictions, test)]\n",
    "            if self._v:\n",
    "                print 'Train mse: ' + str(self.train_mse[-1])\n",
    "                print 'Test mse: ' + str(self.test_mse[-1])\n",
    "            iter_diff = n_iter"
   ]
  },
  {
   "cell_type": "markdown",
   "metadata": {},
   "source": [
    "ALS에서 했던 것과 마찬가지로 한 번 학습시켜보자. 40 latent factor, regularization 없이, learning rate 0.001로 놓고 학습시킨 뒤 learning curve를 그려보자."
   ]
  },
  {
   "cell_type": "code",
   "execution_count": 45,
   "metadata": {},
   "outputs": [
    {
     "name": "stdout",
     "output_type": "stream",
     "text": [
      "Iteration: 1\n",
      "Train mse: 1.14201949589\n",
      "Test mse: 1.18649211801\n",
      "Iteration: 2\n",
      "Train mse: 1.07198510385\n",
      "Test mse: 1.13731498302\n",
      "Iteration: 5\n",
      "Train mse: 0.975293047809\n",
      "Test mse: 1.06328360763\n",
      "Iteration: 10\n",
      "Train mse: 0.917428104722\n",
      "Test mse: 1.01595739954\n",
      "Iteration: 25\n",
      "\tcurrent iteration: 10\n",
      "Train mse: 0.865407448548\n",
      "Test mse: 0.972830250944\n",
      "Iteration: 50\n",
      "\tcurrent iteration: 10\n",
      "\tcurrent iteration: 20\n",
      "Train mse: 0.838185414279\n",
      "Test mse: 0.954734598424\n",
      "Iteration: 100\n",
      "\tcurrent iteration: 10\n",
      "\tcurrent iteration: 20\n",
      "\tcurrent iteration: 30\n",
      "\tcurrent iteration: 40\n",
      "\tcurrent iteration: 50\n",
      "Train mse: 0.756078880421\n",
      "Test mse: 0.935975747832\n",
      "Iteration: 200\n",
      "\tcurrent iteration: 10\n",
      "\tcurrent iteration: 20\n",
      "\tcurrent iteration: 30\n",
      "\tcurrent iteration: 40\n",
      "\tcurrent iteration: 50\n",
      "\tcurrent iteration: 60\n",
      "\tcurrent iteration: 70\n",
      "\tcurrent iteration: 80\n",
      "\tcurrent iteration: 90\n",
      "\tcurrent iteration: 100\n",
      "Train mse: 0.404264133877\n",
      "Test mse: 0.93001866749\n"
     ]
    }
   ],
   "source": [
    "MF_SGD = ExplicitMF(train, 40, learning='sgd', verbose=True)\n",
    "iter_array = [1, 2, 5, 10, 25, 50, 100, 200]\n",
    "MF_SGD.calculate_learning_curve(iter_array, test, learning_rate=0.001)"
   ]
  },
  {
   "cell_type": "code",
   "execution_count": 47,
   "metadata": {},
   "outputs": [
    {
     "data": {
      "image/png": "[encoded data removed]",
      "text/plain": [
       "<matplotlib.figure.Figure at 0x7fd9f1b00a90>"
      ]
     },
     "metadata": {},
     "output_type": "display_data"
    }
   ],
   "source": [
    "plot_learning_curve(iter_array, MF_SGD)"
   ]
  },
  {
   "cell_type": "markdown",
   "metadata": {},
   "source": [
    "앞서 본 ALP보다 MSE가 훨씬 낮은 것을 확인할 수 있다. (*위에서는 가장 좋은 Test MSE가 8 근처에 나왔었다.*)\n",
    "\n",
    "### 평가 및 개선 작업\n",
    "\n",
    "ALS에서와 마찬가지로 Greedy-search를 통해서 hyperparameter를 결정하는 작업을 할 것이다. 최적화가 되지 않은 코드라 매우 느리니\n",
    "적당히 parameter를 선정하자."
   ]
  },
  {
   "cell_type": "code",
   "execution_count": 48,
   "metadata": {},
   "outputs": [
    {
     "name": "stdout",
     "output_type": "stream",
     "text": [
      "Rate: 1e-05\n",
      "New optimal hyperparameters\n",
      "learning_rate                                               1e-05\n",
      "model            <__main__.ExplicitMF instance at 0x7fd9f1aeea70>\n",
      "n_iter                                                         10\n",
      "test_mse                                                  1.25534\n",
      "train_mse                                                  1.2507\n",
      "dtype: object\n",
      "Rate: 0.0001\n",
      "New optimal hyperparameters\n",
      "learning_rate                                              0.0001\n",
      "model            <__main__.ExplicitMF instance at 0x7fd9f1b94908>\n",
      "n_iter                                                         10\n",
      "test_mse                                                  1.18655\n",
      "train_mse                                                 1.14206\n",
      "dtype: object\n",
      "Rate: 0.001\n",
      "New optimal hyperparameters\n",
      "learning_rate                                               0.001\n",
      "model            <__main__.ExplicitMF instance at 0x7fd9f1b94200>\n",
      "n_iter                                                         10\n",
      "test_mse                                                   1.0157\n",
      "train_mse                                                0.917358\n",
      "dtype: object\n",
      "Rate: 0.01\n",
      "New optimal hyperparameters\n",
      "learning_rate                                                0.01\n",
      "model            <__main__.ExplicitMF instance at 0x7fd9f1b94170>\n",
      "n_iter                                                         10\n",
      "test_mse                                                 0.933901\n",
      "train_mse                                                0.749731\n",
      "dtype: object\n"
     ]
    }
   ],
   "source": [
    "# learning_rate를 찾는 과정\n",
    "iter_array = [1, 2, 5, 10] #, 25, 50, 100, 200]\n",
    "learning_rates = [1e-5, 1e-4, 1e-3, 1e-2]\n",
    "\n",
    "best_params = {}\n",
    "best_params['learning_rate'] = None\n",
    "best_params['n_iter'] = 0\n",
    "best_params['train_mse'] = np.inf\n",
    "best_params['test_mse'] = np.inf\n",
    "best_params['model'] = None\n",
    "\n",
    "\n",
    "for rate in learning_rates:\n",
    "    print 'Rate: {}'.format(rate)\n",
    "    MF_SGD = ExplicitMF(train, n_factors=40, learning='sgd')\n",
    "    MF_SGD.calculate_learning_curve(iter_array, test, learning_rate=rate)\n",
    "    min_idx = np.argmin(MF_SGD.test_mse)\n",
    "    if MF_SGD.test_mse[min_idx] < best_params['test_mse']:\n",
    "        best_params['n_iter'] = iter_array[min_idx]\n",
    "        best_params['learning_rate'] = rate\n",
    "        best_params['train_mse'] = MF_SGD.train_mse[min_idx]\n",
    "        best_params['test_mse'] = MF_SGD.test_mse[min_idx]\n",
    "        best_params['model'] = MF_SGD\n",
    "        print 'New optimal hyperparameters'\n",
    "        print pd.Series(best_params)"
   ]
  },
  {
   "cell_type": "code",
   "execution_count": 49,
   "metadata": {},
   "outputs": [
    {
     "name": "stdout",
     "output_type": "stream",
     "text": [
      "Factors: 5\n",
      "Regularization: 0.001\n",
      "New optimal hyperparameters\n",
      "model        <__main__.ExplicitMF instance at 0x7fd9f1a30d40>\n",
      "n_factors                                                   5\n",
      "n_iter                                                      5\n",
      "reg                                                     0.001\n",
      "test_mse                                              1.07299\n",
      "train_mse                                            0.979169\n",
      "dtype: object\n",
      "Regularization: 0.01\n",
      "New optimal hyperparameters\n",
      "model        <__main__.ExplicitMF instance at 0x7fd9f1b7f710>\n",
      "n_factors                                                   5\n",
      "n_iter                                                      5\n",
      "reg                                                      0.01\n",
      "test_mse                                              1.06921\n",
      "train_mse                                            0.979317\n",
      "dtype: object\n",
      "Factors: 10\n",
      "Regularization: 0.001\n",
      "New optimal hyperparameters\n",
      "model        <__main__.ExplicitMF instance at 0x7fd9f1b7f320>\n",
      "n_factors                                                  10\n",
      "n_iter                                                      5\n",
      "reg                                                     0.001\n",
      "test_mse                                              1.06327\n",
      "train_mse                                            0.974994\n",
      "dtype: object\n",
      "Regularization: 0.01\n",
      "Factors: 20\n",
      "Regularization: 0.001\n",
      "New optimal hyperparameters\n",
      "model        <__main__.ExplicitMF instance at 0x7fd9f1a1be18>\n",
      "n_factors                                                  20\n",
      "n_iter                                                      5\n",
      "reg                                                     0.001\n",
      "test_mse                                              1.06281\n",
      "train_mse                                            0.974939\n",
      "dtype: object\n",
      "Regularization: 0.01\n"
     ]
    }
   ],
   "source": [
    "# factor 수, regularization 값 찾는 과정\n",
    "iter_array = [1, 2, 5] #, 10, 25, 50, 100, 200]\n",
    "latent_factors = [5, 10, 20] #, 40, 80]\n",
    "regularizations = [0.001, 0.01] #, 0.1, 1.]\n",
    "regularizations.sort()\n",
    "\n",
    "best_params = {}\n",
    "best_params['n_factors'] = latent_factors[0]\n",
    "best_params['reg'] = regularizations[0]\n",
    "best_params['n_iter'] = 0\n",
    "best_params['train_mse'] = np.inf\n",
    "best_params['test_mse'] = np.inf\n",
    "best_params['model'] = None\n",
    "\n",
    "for fact in latent_factors:\n",
    "    print 'Factors: {}'.format(fact)\n",
    "    for reg in regularizations:\n",
    "        print 'Regularization: {}'.format(reg)\n",
    "        MF_SGD = ExplicitMF(train, n_factors=fact, learning='sgd',\\\n",
    "                            user_fact_reg=reg, item_fact_reg=reg, \\\n",
    "                            user_bias_reg=reg, item_bias_reg=reg)\n",
    "        MF_SGD.calculate_learning_curve(iter_array, test, learning_rate=0.001)\n",
    "        min_idx = np.argmin(MF_SGD.test_mse)\n",
    "        if MF_SGD.test_mse[min_idx] < best_params['test_mse']:\n",
    "            best_params['n_factors'] = fact\n",
    "            best_params['reg'] = reg\n",
    "            best_params['n_iter'] = iter_array[min_idx]\n",
    "            best_params['train_mse'] = MF_SGD.train_mse[min_idx]\n",
    "            best_params['test_mse'] = MF_SGD.test_mse[min_idx]\n",
    "            best_params['model'] = MF_SGD\n",
    "            print 'New optimal hyperparameters'\n",
    "            print pd.Series(best_params)"
   ]
  },
  {
   "cell_type": "code",
   "execution_count": 18,
   "metadata": {},
   "outputs": [
    {
     "data": {
      "image/png": "[encoded data removed]",
      "text/plain": [
       "<matplotlib.figure.Figure at 0x7f1f71e99250>"
      ]
     },
     "metadata": {},
     "output_type": "display_data"
    }
   ],
   "source": [
    "plot_learning_curve(iter_array, best_params['model'])"
   ]
  },
  {
   "cell_type": "code",
   "execution_count": 19,
   "metadata": {},
   "outputs": [
    {
     "name": "stdout",
     "output_type": "stream",
     "text": [
      "Best regularization: 0.001\n",
      "Best latent factors: 20\n",
      "Best iterations: 5\n"
     ]
    }
   ],
   "source": [
    "print 'Best regularization: {}'.format(best_params['reg'])\n",
    "print 'Best latent factors: {}'.format(best_params['n_factors'])\n",
    "print 'Best iterations: {}'.format(best_params['n_iter'])"
   ]
  },
  {
   "cell_type": "markdown",
   "metadata": {},
   "source": [
    "best parameter를 factor가 20, regularization이 0.001, learning rate가 0.001일 때로 찾았다. 어느 정도 더 개선할 여지가 많이 있지만 일단 알고리즘을 익히기 위한 코드이므로 넘어가고 완성된 모델을 바탕으로 test를 해서 제대로 작동하는지 보도록 하자.\n",
    "\n",
    "## Eye tests\n",
    "\n",
    "우리는 영화 평점 데이터를 바탕으로 모델을 학습시켰다. user, item(영화) 각각이 모두 latent factor로 구성된 vector로 나타낼 수 있고 \n",
    "쉽게 영화 간의 유사도를 구하거나 user가 어떤 영화를 좋아할 지에 대한 추천이 가능해진다. 여기에서는 ***cosine similarity***를 활용해서 \n",
    "특정 영화를 입력했을 때 유사한 영화를 반환해주는 로직을 구현하려고 한다.\n",
    "\n",
    "아래 코드를 돌리기 위해서는 [themoviedb.org](http://www.themoviedb.org)에 가입하고 API key를 받아야 한다. 많은 양을 돌리거나 하지 않으니 그냥 제 것을 쓰셔도 무방하다. \n",
    "\n",
    "ALS, SGD 각각에 대해서 돌려보고 나온 결과를 비교해보도록 하겠다."
   ]
  },
  {
   "cell_type": "code",
   "execution_count": 50,
   "metadata": {
    "collapsed": true
   },
   "outputs": [],
   "source": [
    "# 최적의 모델이라고 구한 parameter를 적용한 ALS 모델, 데이터는 전체 데이터를 사용한다. \n",
    "best_als_model = ExplicitMF(ratings, n_factors=20, learning='als', \\\n",
    "                            item_fact_reg=0.01, user_fact_reg=0.01)\n",
    "best_als_model.train(50)"
   ]
  },
  {
   "cell_type": "code",
   "execution_count": 51,
   "metadata": {
    "collapsed": true
   },
   "outputs": [],
   "source": [
    "# 최적의 모델이라고 구한 parameter를 적용한 SGD 모델, 데이터는 전체 데이터를 사용한다. \n",
    "best_sgd_model = ExplicitMF(ratings, n_factors=80, learning='sgd', \\\n",
    "                            item_fact_reg=0.01, user_fact_reg=0.01, \\\n",
    "                            user_bias_reg=0.01, item_bias_reg=0.01)\n",
    "best_sgd_model.train(200, learning_rate=0.001)"
   ]
  },
  {
   "cell_type": "markdown",
   "metadata": {},
   "source": [
    "cosine similarity를 계산하는 함수를 구현하자."
   ]
  },
  {
   "cell_type": "code",
   "execution_count": 52,
   "metadata": {
    "collapsed": true
   },
   "outputs": [],
   "source": [
    "def cosine_similarity(model):\n",
    "    sim = model.item_vecs.dot(model.item_vecs.T)\n",
    "    norms = np.array([np.sqrt(np.diagonal(sim))])\n",
    "    return sim / norms / norms.T\n",
    "\n",
    "als_sim = cosine_similarity(best_als_model)\n",
    "sgd_sim = cosine_similarity(best_sgd_model)"
   ]
  },
  {
   "cell_type": "markdown",
   "metadata": {},
   "source": [
    "API에 query로 넘겨줄 값을 얻기 위해 우리가 분석한 영화의 url 정보를 모은다."
   ]
  },
  {
   "cell_type": "code",
   "execution_count": 53,
   "metadata": {
    "collapsed": true
   },
   "outputs": [],
   "source": [
    "# Load in movie data\n",
    "idx_to_movie = {}\n",
    "with open('u.item', 'r') as f:\n",
    "    for line in f.readlines():\n",
    "        info = line.split('|')\n",
    "        idx_to_movie[int(info[0])-1] = info[4]"
   ]
  },
  {
   "cell_type": "markdown",
   "metadata": {},
   "source": [
    "API를 통해 영화 poster 이미지를 얻는다. "
   ]
  },
  {
   "cell_type": "code",
   "execution_count": 55,
   "metadata": {
    "collapsed": true
   },
   "outputs": [],
   "source": [
    "import requests\n",
    "import json\n",
    "\n",
    "api_key = '39aa821fe806edaa0e0ed315d97147ea'\n",
    "headers = {'Accept': 'application/json'}\n",
    "payload = {'api_key': api_key} \n",
    "response = requests.get(\"http://api.themoviedb.org/3/configuration\",\\\n",
    "                        params=payload,\\\n",
    "                        headers=headers)\n",
    "response = json.loads(response.text)\n",
    "base_url = response['images']['base_url'] + 'w500'\n",
    "\n",
    "def get_poster(imdb_url, base_url, api_key):\n",
    "\n",
    "    headers = {'Accept': 'application/json'}\n",
    "    payload = {'api_key': api_key} \n",
    "    movie_title = imdb_url.split('?')[-1].split('(')[0].replace('%20', ' ')\n",
    "    payload['query'] = movie_title\n",
    "    response = requests.get('http://api.themoviedb.org/3/search/movie',\\\n",
    "                            params=payload,\\\n",
    "                            headers=headers)\n",
    "    try:\n",
    "        movie_id = json.loads(response.text)['results'][0]['id']\n",
    "        payload.pop('query', None)\n",
    "        movie_url = 'http://api.themoviedb.org/3/movie/{:}'\\\n",
    "                    .format(movie_id)\n",
    "        response = requests.get(movie_url, params=payload, headers=headers)\n",
    "        file_path = json.loads(response.text)['poster_path']\n",
    "    except:\n",
    "        # 가끔 잘 안 돌아갈 때가 있다고 한다. 그래서 예외 처리를 해주고 ''값을 return 한다.\n",
    "        return ''\n",
    "\n",
    "    return base_url + file_path"
   ]
  },
  {
   "cell_type": "markdown",
   "metadata": {},
   "source": [
    "Jupyter notebook cell에 poster를 나타낸다. IPython.display method를 사용했다. [stackoverflow](http://stackoverflow.com/a/27795087) 에서 도움을 얻었다고 한다."
   ]
  },
  {
   "cell_type": "code",
   "execution_count": 56,
   "metadata": {
    "collapsed": true
   },
   "outputs": [],
   "source": [
    "from IPython.display import HTML\n",
    "from IPython.display import display\n",
    "\n",
    "def display_top_k_movies(similarity, mapper, movie_idx, base_url, api_key, k=5):\n",
    "    movie_indices = np.argsort(similarity[movie_idx,:])[::-1]\n",
    "    images = ''\n",
    "    k_ctr = 0\n",
    "    # Start i at 1 to not grab the input movie\n",
    "    i = 1\n",
    "    while k_ctr < 5:\n",
    "        movie = mapper[movie_indices[i]]\n",
    "        poster = get_poster(movie, base_url, api_key)\n",
    "        if poster != '':\n",
    "            images += \"<img style='width: 120px; margin: 0px; \\\n",
    "                      float: left; border: 1px solid black;' src='%s' />\"\\\n",
    "                      % poster\n",
    "            k_ctr += 1\n",
    "        i += 1\n",
    "    display(HTML(images))\n",
    "\n",
    "def compare_recs(als_similarity, sgd_similarity, mapper,\\\n",
    "                 movie_idx, base_url, api_key, k=5):\n",
    "    # Display input\n",
    "    display(HTML('<font size=5>'+'Input'+'</font>'))\n",
    "    input_poster = get_poster(mapper[movie_idx], base_url, api_key)\n",
    "    input_image = \"<img style='width: 120px; margin: 0px; \\\n",
    "                      float: left; border: 1px solid black;' src='%s' />\" \\\n",
    "                  % input_poster\n",
    "    display(HTML(input_image))\n",
    "    # Display ALS Recs\n",
    "    display(HTML('<font size=5>'+'ALS Recs'+'</font>'))\n",
    "    display_top_k_movies(als_similarity, idx_to_movie,\\\n",
    "                         movie_idx, base_url, api_key)\n",
    "    # Display SGD Recs\n",
    "    display(HTML('<font size=5>'+'SGD Recs'+'</font>'))\n",
    "    display_top_k_movies(sgd_similarity, idx_to_movie,\\\n",
    "                         movie_idx, base_url, api_key)"
   ]
  },
  {
   "cell_type": "markdown",
   "metadata": {},
   "source": [
    "이제 ALS, SGD 학습 모델에 대해 돌려보자."
   ]
  },
  {
   "cell_type": "code",
   "execution_count": 63,
   "metadata": {},
   "outputs": [
    {
     "data": {
      "text/html": [
       "<font size=5>Input</font>"
      ],
      "text/plain": [
       "<IPython.core.display.HTML object>"
      ]
     },
     "metadata": {},
     "output_type": "display_data"
    },
    {
     "data": {
      "text/html": [
       "<img style='width: 120px; margin: 0px;                       float: left; border: 1px solid black;' src='http://image.tmdb.org/t/p/w500/rhIRbceoE9lR4veEXuwCC2wARtG.jpg' />"
      ],
      "text/plain": [
       "<IPython.core.display.HTML object>"
      ]
     },
     "metadata": {},
     "output_type": "display_data"
    },
    {
     "data": {
      "text/html": [
       "<font size=5>ALS Recs</font>"
      ],
      "text/plain": [
       "<IPython.core.display.HTML object>"
      ]
     },
     "metadata": {},
     "output_type": "display_data"
    },
    {
     "data": {
      "text/html": [
       "<img style='width: 120px; margin: 0px;                       float: left; border: 1px solid black;' src='http://image.tmdb.org/t/p/w500/b94qXd1FcIwgzv0NYMUe2bjrzJR.jpg' /><img style='width: 120px; margin: 0px;                       float: left; border: 1px solid black;' src='http://image.tmdb.org/t/p/w500/jYEKdpVvRV3KdyHMUVYyg0KTVSY.jpg' /><img style='width: 120px; margin: 0px;                       float: left; border: 1px solid black;' src='http://image.tmdb.org/t/p/w500/gpMXF2Bp7GHTT8GbMgf7yuBEyuV.jpg' /><img style='width: 120px; margin: 0px;                       float: left; border: 1px solid black;' src='http://image.tmdb.org/t/p/w500/bqLlWZJdhrS0knfEJRkquW7L8z2.jpg' /><img style='width: 120px; margin: 0px;                       float: left; border: 1px solid black;' src='http://image.tmdb.org/t/p/w500/vmj2PzTLC6xJvshpq8SlaYE3gbd.jpg' />"
      ],
      "text/plain": [
       "<IPython.core.display.HTML object>"
      ]
     },
     "metadata": {},
     "output_type": "display_data"
    },
    {
     "data": {
      "text/html": [
       "<font size=5>SGD Recs</font>"
      ],
      "text/plain": [
       "<IPython.core.display.HTML object>"
      ]
     },
     "metadata": {},
     "output_type": "display_data"
    },
    {
     "data": {
      "text/html": [
       "<img style='width: 120px; margin: 0px;                       float: left; border: 1px solid black;' src='http://image.tmdb.org/t/p/w500/tWqifoYuwLETmmasnGHO7xBjEtt.jpg' /><img style='width: 120px; margin: 0px;                       float: left; border: 1px solid black;' src='http://image.tmdb.org/t/p/w500/o1F2aloaOUufHHOsV0laA9aw9N0.jpg' /><img style='width: 120px; margin: 0px;                       float: left; border: 1px solid black;' src='http://image.tmdb.org/t/p/w500/7f53XAE4nPiGe9XprpGAeWHuKPw.jpg' /><img style='width: 120px; margin: 0px;                       float: left; border: 1px solid black;' src='http://image.tmdb.org/t/p/w500/4p1N2Qrt8j0H8xMHMHvtRxv9weZ.jpg' /><img style='width: 120px; margin: 0px;                       float: left; border: 1px solid black;' src='http://image.tmdb.org/t/p/w500/d5J53CwrVs6txB8zhE6qS2QhIV.jpg' />"
      ],
      "text/plain": [
       "<IPython.core.display.HTML object>"
      ]
     },
     "metadata": {},
     "output_type": "display_data"
    }
   ],
   "source": [
    "idx = 0 # 영화: toy story\n",
    "compare_recs(als_sim, sgd_sim, idx_to_movie, idx, base_url, api_key)"
   ]
  },
  {
   "cell_type": "code",
   "execution_count": 58,
   "metadata": {},
   "outputs": [
    {
     "data": {
      "text/html": [
       "<font size=5>Input</font>"
      ],
      "text/plain": [
       "<IPython.core.display.HTML object>"
      ]
     },
     "metadata": {},
     "output_type": "display_data"
    },
    {
     "data": {
      "text/html": [
       "<img style='width: 120px; margin: 0px;                       float: left; border: 1px solid black;' src='http://image.tmdb.org/t/p/w500/5A8gKzOrF9Z7tSUX6xd5dEx4NXf.jpg' />"
      ],
      "text/plain": [
       "<IPython.core.display.HTML object>"
      ]
     },
     "metadata": {},
     "output_type": "display_data"
    },
    {
     "data": {
      "text/html": [
       "<font size=5>ALS Recs</font>"
      ],
      "text/plain": [
       "<IPython.core.display.HTML object>"
      ]
     },
     "metadata": {},
     "output_type": "display_data"
    },
    {
     "data": {
      "text/html": [
       "<img style='width: 120px; margin: 0px;                       float: left; border: 1px solid black;' src='http://image.tmdb.org/t/p/w500/vddUwPL3L8MBH4FrEDCAZM9T6sj.jpg' /><img style='width: 120px; margin: 0px;                       float: left; border: 1px solid black;' src='http://image.tmdb.org/t/p/w500/8k8RSMkmGR9Lp6FbKtithM3KIQb.jpg' /><img style='width: 120px; margin: 0px;                       float: left; border: 1px solid black;' src='http://image.tmdb.org/t/p/w500/40dkCdLZdUcLnweKsbfGdsMFE5.jpg' /><img style='width: 120px; margin: 0px;                       float: left; border: 1px solid black;' src='http://image.tmdb.org/t/p/w500/1Q5YdK91oJBXJcbCuZhKXeY4vP1.jpg' /><img style='width: 120px; margin: 0px;                       float: left; border: 1px solid black;' src='http://image.tmdb.org/t/p/w500/yMnDgWeFQP903aPJvh5HAvyQycw.jpg' />"
      ],
      "text/plain": [
       "<IPython.core.display.HTML object>"
      ]
     },
     "metadata": {},
     "output_type": "display_data"
    },
    {
     "data": {
      "text/html": [
       "<font size=5>SGD Recs</font>"
      ],
      "text/plain": [
       "<IPython.core.display.HTML object>"
      ]
     },
     "metadata": {},
     "output_type": "display_data"
    },
    {
     "data": {
      "text/html": [
       "<img style='width: 120px; margin: 0px;                       float: left; border: 1px solid black;' src='http://image.tmdb.org/t/p/w500/3pd3sdot0HfQTFzqgTUzaF4kcxP.jpg' /><img style='width: 120px; margin: 0px;                       float: left; border: 1px solid black;' src='http://image.tmdb.org/t/p/w500/rYIqre2VJvykvXuQSVC0D3Hs4LU.jpg' /><img style='width: 120px; margin: 0px;                       float: left; border: 1px solid black;' src='http://image.tmdb.org/t/p/w500/zBjxfcMkp7RR1fwKWBvRNZjQpOz.jpg' /><img style='width: 120px; margin: 0px;                       float: left; border: 1px solid black;' src='http://image.tmdb.org/t/p/w500/dnYXJZgstixBsOjF4JJrPCDRd2n.jpg' /><img style='width: 120px; margin: 0px;                       float: left; border: 1px solid black;' src='http://image.tmdb.org/t/p/w500/wRlGnJhEzcxBjvWtvbjhDSU1cIY.jpg' />"
      ],
      "text/plain": [
       "<IPython.core.display.HTML object>"
      ]
     },
     "metadata": {},
     "output_type": "display_data"
    }
   ],
   "source": [
    "idx = 20 # 영화: Muppet Treasure Island\n",
    "compare_recs(als_sim, sgd_sim, idx_to_movie, idx, base_url, api_key)"
   ]
  },
  {
   "cell_type": "code",
   "execution_count": 59,
   "metadata": {},
   "outputs": [
    {
     "data": {
      "text/html": [
       "<font size=5>Input</font>"
      ],
      "text/plain": [
       "<IPython.core.display.HTML object>"
      ]
     },
     "metadata": {},
     "output_type": "display_data"
    },
    {
     "data": {
      "text/html": [
       "<img style='width: 120px; margin: 0px;                       float: left; border: 1px solid black;' src='http://image.tmdb.org/t/p/w500/5mP8F0NYSVrwrlWRCSD4uywMNnX.jpg' />"
      ],
      "text/plain": [
       "<IPython.core.display.HTML object>"
      ]
     },
     "metadata": {},
     "output_type": "display_data"
    },
    {
     "data": {
      "text/html": [
       "<font size=5>ALS Recs</font>"
      ],
      "text/plain": [
       "<IPython.core.display.HTML object>"
      ]
     },
     "metadata": {},
     "output_type": "display_data"
    },
    {
     "data": {
      "text/html": [
       "<img style='width: 120px; margin: 0px;                       float: left; border: 1px solid black;' src='http://image.tmdb.org/t/p/w500/lbsuDUaTH9POXWb4Inyck8gZFck.jpg' /><img style='width: 120px; margin: 0px;                       float: left; border: 1px solid black;' src='http://image.tmdb.org/t/p/w500/bYU4DdtGM4JBu5eZNkauDjJhXpN.jpg' /><img style='width: 120px; margin: 0px;                       float: left; border: 1px solid black;' src='http://image.tmdb.org/t/p/w500/tCgBOpglqgg478AIy9wYfZ7choY.jpg' /><img style='width: 120px; margin: 0px;                       float: left; border: 1px solid black;' src='http://image.tmdb.org/t/p/w500/3PEAkZHa8ehfUkuKbzmQNRTTAAs.jpg' /><img style='width: 120px; margin: 0px;                       float: left; border: 1px solid black;' src='http://image.tmdb.org/t/p/w500/9DqFILk5EHGRpBF1nM0lcFkjEdC.jpg' />"
      ],
      "text/plain": [
       "<IPython.core.display.HTML object>"
      ]
     },
     "metadata": {},
     "output_type": "display_data"
    },
    {
     "data": {
      "text/html": [
       "<font size=5>SGD Recs</font>"
      ],
      "text/plain": [
       "<IPython.core.display.HTML object>"
      ]
     },
     "metadata": {},
     "output_type": "display_data"
    },
    {
     "data": {
      "text/html": [
       "<img style='width: 120px; margin: 0px;                       float: left; border: 1px solid black;' src='http://image.tmdb.org/t/p/w500/pG5edeKkntnt5A799Y0UNI5hi9W.jpg' /><img style='width: 120px; margin: 0px;                       float: left; border: 1px solid black;' src='http://image.tmdb.org/t/p/w500/3PEAkZHa8ehfUkuKbzmQNRTTAAs.jpg' /><img style='width: 120px; margin: 0px;                       float: left; border: 1px solid black;' src='http://image.tmdb.org/t/p/w500/4saVIltqkhq9is5NmD7N87Q40M.jpg' /><img style='width: 120px; margin: 0px;                       float: left; border: 1px solid black;' src='http://image.tmdb.org/t/p/w500/nZirljb8XYbKTWsRQTplDGhx39Q.jpg' /><img style='width: 120px; margin: 0px;                       float: left; border: 1px solid black;' src='http://image.tmdb.org/t/p/w500/hAPeXBdGDGmXRPj4OZZ0poH65Iu.jpg' />"
      ],
      "text/plain": [
       "<IPython.core.display.HTML object>"
      ]
     },
     "metadata": {},
     "output_type": "display_data"
    }
   ],
   "source": [
    "idx = 40 # 영화: Billy Madison\n",
    "compare_recs(als_sim, sgd_sim, idx_to_movie, idx, base_url, api_key)"
   ]
  },
  {
   "cell_type": "code",
   "execution_count": 60,
   "metadata": {},
   "outputs": [
    {
     "data": {
      "text/html": [
       "<font size=5>Input</font>"
      ],
      "text/plain": [
       "<IPython.core.display.HTML object>"
      ]
     },
     "metadata": {},
     "output_type": "display_data"
    },
    {
     "data": {
      "text/html": [
       "<img style='width: 120px; margin: 0px;                       float: left; border: 1px solid black;' src='http://image.tmdb.org/t/p/w500/r5IqhwZ61OuKlsyDwvXWyWQZK30.jpg' />"
      ],
      "text/plain": [
       "<IPython.core.display.HTML object>"
      ]
     },
     "metadata": {},
     "output_type": "display_data"
    },
    {
     "data": {
      "text/html": [
       "<font size=5>ALS Recs</font>"
      ],
      "text/plain": [
       "<IPython.core.display.HTML object>"
      ]
     },
     "metadata": {},
     "output_type": "display_data"
    },
    {
     "data": {
      "text/html": [
       "<img style='width: 120px; margin: 0px;                       float: left; border: 1px solid black;' src='http://image.tmdb.org/t/p/w500/wbVGRBYPRRahIZNGXY9TfHDUSc2.jpg' /><img style='width: 120px; margin: 0px;                       float: left; border: 1px solid black;' src='http://image.tmdb.org/t/p/w500/o1F2aloaOUufHHOsV0laA9aw9N0.jpg' /><img style='width: 120px; margin: 0px;                       float: left; border: 1px solid black;' src='http://image.tmdb.org/t/p/w500/7HI8FD4glaWdYqCF0kReT1N56Bi.jpg' /><img style='width: 120px; margin: 0px;                       float: left; border: 1px solid black;' src='http://image.tmdb.org/t/p/w500/pvEE5EN5N1yjmHmldfL4aJWm56l.jpg' /><img style='width: 120px; margin: 0px;                       float: left; border: 1px solid black;' src='http://image.tmdb.org/t/p/w500/oPXf92g2gjlPqduj6vRH9yvh0Yb.jpg' />"
      ],
      "text/plain": [
       "<IPython.core.display.HTML object>"
      ]
     },
     "metadata": {},
     "output_type": "display_data"
    },
    {
     "data": {
      "text/html": [
       "<font size=5>SGD Recs</font>"
      ],
      "text/plain": [
       "<IPython.core.display.HTML object>"
      ]
     },
     "metadata": {},
     "output_type": "display_data"
    },
    {
     "data": {
      "text/html": [
       "<img style='width: 120px; margin: 0px;                       float: left; border: 1px solid black;' src='http://image.tmdb.org/t/p/w500/7HI8FD4glaWdYqCF0kReT1N56Bi.jpg' /><img style='width: 120px; margin: 0px;                       float: left; border: 1px solid black;' src='http://image.tmdb.org/t/p/w500/wbVGRBYPRRahIZNGXY9TfHDUSc2.jpg' /><img style='width: 120px; margin: 0px;                       float: left; border: 1px solid black;' src='http://image.tmdb.org/t/p/w500/tKEHoKPZv3af0Pn3poaOLHOJ6NM.jpg' /><img style='width: 120px; margin: 0px;                       float: left; border: 1px solid black;' src='http://image.tmdb.org/t/p/w500/teFvLNdppclC01dZodBTyaP3lGK.jpg' /><img style='width: 120px; margin: 0px;                       float: left; border: 1px solid black;' src='http://image.tmdb.org/t/p/w500/h8kkqroLwxvAHxWGIStEZaNd4wr.jpg' />"
      ],
      "text/plain": [
       "<IPython.core.display.HTML object>"
      ]
     },
     "metadata": {},
     "output_type": "display_data"
    }
   ],
   "source": [
    "idx = 500 # 영화: Dumbo\n",
    "compare_recs(als_sim, sgd_sim, idx_to_movie, idx, base_url, api_key)"
   ]
  },
  {
   "cell_type": "markdown",
   "metadata": {
    "collapsed": true
   },
   "source": [
    "결과를 봤을 때 ALS, SGD 모두 어느 정도까지는 영화에 대한 학습이 이루어진 것을 볼 수 있다. (*특히 Dumbo!!*) 그리고 MSE의 차이가 ALS과 SGD가 많이 남에도 불구하고 ALS의 결과가 더 좋아보이는 것들도 있다. ALS와 SGD의 성능에 대한 비교에 대해서 블로그 저자도 언급하고 있는데 \n",
    "아래 내용이 명확하게 이해가 되지 않아 원문 그대로 남겨두도록 하겠다. 더 궁금하신 분들은 아래 링크의 논문이나 사이트를 보면 될 듯하다.\n",
    "\n",
    "\n",
    "### ALS vs SGD?\n",
    "\n",
    "So how do we think we did? I find it very interesting that the best test MSE for our ALS model was 8.07 compared to 0.88 for SGD. That's a giant difference, and yet I think the ALS recommendations might actually beat out the SGD ones; particularly, the GoldenEye and Dumbo recommendations.\n",
    "\n",
    "I have found similar behavior in some of my own work, as well. I have a vague hunch that SGD tends to overfit more than ALS and is more susceptible to popularity bias. Unfortunately, I have zero math to back this up, so it'll remain purely anecdotal for now. An alternative explanation could be that the SGD movie-to-movie recommendations are actually better than the ALS ones even if they seem like less similar movies. In a recent Netflix [paper](http://dl.acm.org/citation.cfm?id=2843948), they show a similar comparison of two different models' movie-to-movie recommendations. It turns out that the model with movies that look less similar by eye (but are generally more popular movies) performs better on A/B tests. And really, A/B tests are a much better way of truly benchmarking recommendation systems compared to this offline data modeling.\n",
    "\n",
    "And on a final note, maybe we would want to just combine both models into an ensemble which seems to be what [everbody does](https://medium.com/@xamat/10-more-lessons-learned-from-building-real-life-ml-systems-part-i-b309cafc7b5e) nowadays.\n"
   ]
  },
  {
   "cell_type": "code",
   "execution_count": null,
   "metadata": {
    "collapsed": true
   },
   "outputs": [],
   "source": []
  }
 ],
 "metadata": {
  "kernelspec": {
   "display_name": "Python 2",
   "language": "python",
   "name": "python2"
  },
  "language_info": {
   "codemirror_mode": {
    "name": "ipython",
    "version": 2
   },
   "file_extension": ".py",
   "mimetype": "text/x-python",
   "name": "python",
   "nbconvert_exporter": "python",
   "pygments_lexer": "ipython2",
   "version": "2.7.13"
  }
 },
 "nbformat": 4,
 "nbformat_minor": 1
}
