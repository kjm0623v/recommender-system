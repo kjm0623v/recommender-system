{
 "cells": [
  {
   "cell_type": "markdown",
   "metadata": {},
   "source": [
    "아래 내용은 Ethan Rosenthal의 블로그의 내용과 소스코드를 바탕으로 번역 및 일부 수정한 내용입니다.\n",
    "\n",
    "원본을 보시고 싶으신 분은 아래 사이트를 방문해주세요\n",
    "\n",
    "- 블로그: http://blog.ethanrosenthal.com/\n",
    "- github: https://github.com/EthanRosenthal/DataPiques_source"
   ]
  },
  {
   "cell_type": "markdown",
   "metadata": {},
   "source": [
    "앞서 Matrix Factorization 기법을 살펴보았고 ALS, SGD 알고리즘으로 학습하는 방법을 구현했다. 근데 코드가 최적화가 되지 않아 속도가 매우 \n",
    "느렸다. 그래서, 이미 구현되어 사람들이 사용하고 있는 패키지를 통해 학습을 시켜보도록 하겠다.\n",
    "\n",
    "### 데이터셋\n",
    "\n",
    "학습에 사용할 데이터는 블로그 저자가 직접 [Sketchfab](https://sketchfab.com/) 사이트에서 수집한 implicit feedback이다. \n",
    "데이터의 구성은 user의 id와 user가 클릭한 모델의 id, 정보로 구성된다. 이 정보를 정리해서 특정 user가 모델을 클릭했는지 유무(0, 1)를 나타내는 user_item matrix를 만들어 사용한다.\n",
    "\n",
    "### 사용 모델 \n",
    "\n",
    "[Collaborative Filtering for Implicit Feedback Datasets](http://yifanhu.net/PUB/cf.pdf) 논문의 모델을 사용한다. 이전에 다뤘던 ALS와 거의 비슷한 내용인데 기존에 explicit feedback에 사용했지만 implicit feedback에 사용하면서 약간 수식적으로 변하는 부분이 있다. 저자가 해당 모델을 Weighted Regularized Matrix Factorization(WRMF)라고 부르므로 이 명칭으로 부르도록 하겠다.\n",
    "\n",
    "### 목적 함수 \n",
    "\n",
    "이전 [post](https://github.com/whikwon/recommender-system/blob/master/code/2016-01-09-explicit-matrix-factorization-als-sgd.ipynb)에서 explicit feedback에 사용한 목적 함수를 그대로 가져오자. (bias는 뺀다.) \n",
    "\n",
    "$$L_{exp} = \\sum\\limits_{u,i \\in S}(r_{ui} - \\textbf{x}_{u}^{\\intercal} \\cdot{} \\textbf{y}_{i})^{2} + \\lambda_{x} \\sum\\limits_{u} \\left\\Vert \\textbf{x}_{u} \\right\\Vert^{2} + \\lambda_{y} \\sum\\limits_{u} \\left\\Vert \\textbf{y}_{i} \\right\\Vert^{2}$$\n",
    "\n",
    "각 항들에 대해 정리하고 넘어가면 $r_{ui}$는 user의 item에 대한 평점, $\\textbf{x}_{u}$는 latent factor로 이루어진 u번째 user의 vector, $\\textbf{y}_i$는 i번째 item의 vector이다. 그리고 $\\lambda$ 항은 regularization term이다.\n",
    "\n",
    "잘 생각해보면 $r_{ui}$이 user의 item에 대한 평점인데 implicit feedback에는 그런 정보가 없다. 우리가 정보를 보고 어느 정도 유추할 수 있을 뿐이지 explicit과 같이 명시적으로 나타내지 않고 있다. 그래서 $r_{ui}$에 대한 항을 조금 변경해주어야 한다. \n",
    "\n",
    "방법은, preference항(${p}_{ui}$)과 confidence항($c_{ui}$)으로 쪼개서 다루는 것이다. user가 해당 item과 상호작용이 있었다면 $p_{ui} = 1$ 값으로, 그렇지 않다면 $p_{ui} = 0$으로 지정한다. item이 user에게 알려지지 않았을 수도 있고 운이 없어서 그럴 수도 있지만 \n",
    "일단 우리는 ***상호작용한 item에 user는 어느 정도 선호도가 있다고 생각한다는 것이다.*** \n",
    "\n",
    "$c_{ui}$항은 신뢰도를 나타낸다. implicit한 정보를 봤을 때 user의 개별 행동에 대해서(*예를 들면 상품 클릭*) 이 행동이 관심이 있어서 한 건지 아니면 잘못 눌러서 한 건지 알 길이 없다. 그래서, 더 많이 클릭하거나 오래 머무르거나 구매한 item에 대해서 ***신뢰도가 높은 정보라고 생각한다.*** 이를 식으로 나타내면 아래와 같고 $\\alpha$는 hyperparameter, $d_{ui}$는 클릭 횟수, 머무른 시간 등의 정보를 나타낸다.\n",
    "\n",
    "$$c_{ui} = 1 + \\alpha d_{ui}$$\n",
    "\n",
    "위에서 소개한 $p_{ui}, c_{ui}$항을 기존 식에 넣어 아래와 같은 새로운 목적 함수를 구할 수 있게 된다. ***user가 선호하는 item을 맞추는 것이 목표이며 이 때, 얼마나 관심을 가졌는지(신뢰도)가 고려되어 관심을 가진 item에 더 가중치가 생겨 학습되게 된다.*** 앞서 마찬가지로 $L$을 최소화 시켰을 때 우리가 원하는 $\\textbf{x}_{u}$, $\\textbf{y}_{i}$을 구할 수 있다.\n",
    "\n",
    "$$L_{WRMF} = \\sum\\limits_{u,i}c_{ui} \\big( p_{ui} - \\textbf{x}_{u}^{\\intercal} \\cdot{} \\textbf{y}_{i} \\big) ^{2} + \\lambda_{x} \\sum\\limits_{u} \\left\\Vert \\textbf{x}_{u} \\right\\Vert^{2} + \\lambda_{y} \\sum\\limits_{u} \\left\\Vert \\textbf{y}_{i} \\right\\Vert^{2}$$\n",
    "\n",
    "학습 방법은 이전 post에서 소개했으므로 생략하도록 하고 새로운 항으로 인해서 update해야 할 식이 조금 바뀌었는데 이는 StackOverflow [답변](https://math.stackexchange.com/questions/1072451/analytic-solution-for-matrix-factorization-using-alternating-least-squares/1073170#1073170)이나 Sudeep Das의 [post](http://datamusing.info/blog/2015/01/07/implicit-feedback-and-collaborative-filtering/) 를 참고하자. \n",
    "\n",
    "\n",
    "### 라이브러리 \n",
    "\n",
    "수식이 이해를 위해선 Chris Johnson의 [repo](https://github.com/MrChrisJohnson/implicit-mf/blob/master/mf.py)에 간단하게 잘 구현되어 있으므로 참고하자. 이 외에 실제로 사용할 라이브러리는 [implicit](https://github.com/benfred/implicit)이다. python에서 ALS를 지원하는 라이브러리가 몇 개 없긴 하지만 그 중에서 가장 빠르다고 한다. \n",
    "\n",
    "implicit 라이브러리에서 저자가 필요(learning curve, $\\alpha$)에 의해 몇 가지 추가한 코드가 있어서 이를 반영해서 [gist](https://gist.github.com/whikwon/7dda3e008cf1f407d449f0045caa56b0)에 올려놓았다. `pip install implicit`로 라이브러리를 설치한 뒤 als.py 부분을 수정하면 된다."
   ]
  },
  {
   "cell_type": "markdown",
   "metadata": {},
   "source": [
    "## 데이터 전처리\n",
    "\n",
    "데이터를 불러오면 `modelname`, `mid`, `uid`의 정보를 가진 3개 column으로 이루어져 있다. 이를 user_item 형식의 matrix로 만들어주고 \n",
    "user가 관심을 보인 item에는 1, 외에는 0을 채워주자."
   ]
  },
  {
   "cell_type": "code",
   "execution_count": 1,
   "metadata": {
    "collapsed": true
   },
   "outputs": [],
   "source": [
    "%matplotlib inline\n",
    "import matplotlib.pyplot as plt\n",
    "import pandas as pd\n",
    "import numpy as np\n",
    "import scipy.sparse as sparse\n",
    "import pickle\n",
    "import csv\n",
    "import implicit\n",
    "import itertools\n",
    "import copy\n",
    "plt.style.use('ggplot')\n",
    "%load_ext autoreload\n",
    "%autoreload 2"
   ]
  },
  {
   "cell_type": "code",
   "execution_count": 2,
   "metadata": {
    "collapsed": true
   },
   "outputs": [],
   "source": [
    "# 데이터를 불러온다. \n",
    "df = pd.read_csv('../dataset/model_likes_anon.psv',\n",
    "                 sep='|', quoting=csv.QUOTE_MINIMAL,\n",
    "                 quotechar='\\\\')\n",
    "df.head()\n",
    "# 중복된 데이터를 제거한다. (count로 0,1을 만들어주기 위함.)\n",
    "df.drop_duplicates(inplace=True)"
   ]
  },
  {
   "cell_type": "code",
   "execution_count": 3,
   "metadata": {},
   "outputs": [
    {
     "data": {
      "text/html": [
       "<div>\n",
       "<style>\n",
       "    .dataframe thead tr:only-child th {\n",
       "        text-align: right;\n",
       "    }\n",
       "\n",
       "    .dataframe thead th {\n",
       "        text-align: left;\n",
       "    }\n",
       "\n",
       "    .dataframe tbody tr th {\n",
       "        vertical-align: top;\n",
       "    }\n",
       "</style>\n",
       "<table border=\"1\" class=\"dataframe\">\n",
       "  <thead>\n",
       "    <tr style=\"text-align: right;\">\n",
       "      <th></th>\n",
       "      <th>uid</th>\n",
       "      <th>mid</th>\n",
       "    </tr>\n",
       "  </thead>\n",
       "  <tbody>\n",
       "    <tr>\n",
       "      <th>0</th>\n",
       "      <td>7ac1b40648fff523d7220a5d07b04d9b</td>\n",
       "      <td>5dcebcfaedbd4e7b8a27bd1ae55f1ac3</td>\n",
       "    </tr>\n",
       "    <tr>\n",
       "      <th>1</th>\n",
       "      <td>2b4ad286afe3369d39f1bb7aa2528bc7</td>\n",
       "      <td>5dcebcfaedbd4e7b8a27bd1ae55f1ac3</td>\n",
       "    </tr>\n",
       "    <tr>\n",
       "      <th>2</th>\n",
       "      <td>1bf0993ebab175a896ac8003bed91b4b</td>\n",
       "      <td>5dcebcfaedbd4e7b8a27bd1ae55f1ac3</td>\n",
       "    </tr>\n",
       "    <tr>\n",
       "      <th>3</th>\n",
       "      <td>6484211de8b9a023a7d9ab1641d22e7c</td>\n",
       "      <td>5dcebcfaedbd4e7b8a27bd1ae55f1ac3</td>\n",
       "    </tr>\n",
       "    <tr>\n",
       "      <th>4</th>\n",
       "      <td>1109ee298494fbd192e27878432c718a</td>\n",
       "      <td>5dcebcfaedbd4e7b8a27bd1ae55f1ac3</td>\n",
       "    </tr>\n",
       "  </tbody>\n",
       "</table>\n",
       "</div>"
      ],
      "text/plain": [
       "                                uid                               mid\n",
       "0  7ac1b40648fff523d7220a5d07b04d9b  5dcebcfaedbd4e7b8a27bd1ae55f1ac3\n",
       "1  2b4ad286afe3369d39f1bb7aa2528bc7  5dcebcfaedbd4e7b8a27bd1ae55f1ac3\n",
       "2  1bf0993ebab175a896ac8003bed91b4b  5dcebcfaedbd4e7b8a27bd1ae55f1ac3\n",
       "3  6484211de8b9a023a7d9ab1641d22e7c  5dcebcfaedbd4e7b8a27bd1ae55f1ac3\n",
       "4  1109ee298494fbd192e27878432c718a  5dcebcfaedbd4e7b8a27bd1ae55f1ac3"
      ]
     },
     "execution_count": 3,
     "metadata": {},
     "output_type": "execute_result"
    }
   ],
   "source": [
    "df = df[['uid', 'mid']]\n",
    "df.head()"
   ]
  },
  {
   "cell_type": "code",
   "execution_count": 4,
   "metadata": {},
   "outputs": [
    {
     "name": "stdout",
     "output_type": "stream",
     "text": [
      "Number of users: 62583\n",
      "Number of models: 28806\n",
      "Sparsity: 0.035%\n"
     ]
    }
   ],
   "source": [
    "# sparsity가 어느 정도인지 확인해보자. \n",
    "n_users = df.uid.unique().shape[0]\n",
    "n_items = df.mid.unique().shape[0]\n",
    "\n",
    "print('Number of users: {}'.format(n_users))\n",
    "print('Number of models: {}'.format(n_items))\n",
    "print('Sparsity: {:4.3f}%'.format(float(df.shape[0]) / float(n_users*n_items) * 100))"
   ]
  },
  {
   "cell_type": "markdown",
   "metadata": {},
   "source": [
    "sparse한 데이터를 dense하게 만들기 위해서 일정 수 이상 like를 좋아한 user만 남겨준다. implicit feedback의 경우 좀 더 dense할 때 도움이 되는 경우가 있다고 한다. (*원래 explicit보다 implicit이 dense하긴 하다.*)\n",
    "\n",
    "그래서 5개 이상 관심을 보인 user, 5개 이상 관심을 받은 item만 남기고 다 제외한다. n개로 바꿔서 해보면서 성능을 비교해봐도 좋겠다."
   ]
  },
  {
   "cell_type": "code",
   "execution_count": 5,
   "metadata": {
    "collapsed": true
   },
   "outputs": [],
   "source": [
    "def threshold_likes(df, uid_min, mid_min):\n",
    "    n_users = df.uid.unique().shape[0]\n",
    "    n_items = df.mid.unique().shape[0]\n",
    "    sparsity = float(df.shape[0]) / float(n_users*n_items) * 100\n",
    "    print('Starting likes info')\n",
    "    print('Number of users: {}'.format(n_users))\n",
    "    print('Number of models: {}'.format(n_items))\n",
    "    print('Sparsity: {:4.3f}%'.format(sparsity))\n",
    "    \n",
    "    done = False\n",
    "    while not done:\n",
    "        starting_shape = df.shape[0]\n",
    "        mid_counts = df.groupby('uid').mid.count()\n",
    "        df = df[~df.uid.isin(mid_counts[mid_counts < mid_min].index.tolist())]\n",
    "        uid_counts = df.groupby('mid').uid.count()\n",
    "        df = df[~df.mid.isin(uid_counts[uid_counts < uid_min].index.tolist())]\n",
    "        ending_shape = df.shape[0]\n",
    "        if starting_shape == ending_shape:\n",
    "            done = True\n",
    "    \n",
    "    assert(df.groupby('uid').mid.count().min() >= mid_min)\n",
    "    assert(df.groupby('mid').uid.count().min() >= uid_min)\n",
    "    \n",
    "    n_users = df.uid.unique().shape[0]\n",
    "    n_items = df.mid.unique().shape[0]\n",
    "    \n",
    "    # sparsity: 전체 데이터 개수 / user수 * item수 \n",
    "    sparsity = float(df.shape[0]) / float(n_users*n_items) * 100\n",
    "    print('Ending likes info')\n",
    "    print('Number of users: {}'.format(n_users))\n",
    "    print('Number of models: {}'.format(n_items))\n",
    "    print('Sparsity: {:4.3f}%'.format(sparsity))\n",
    "    return df"
   ]
  },
  {
   "cell_type": "code",
   "execution_count": 6,
   "metadata": {
    "scrolled": true
   },
   "outputs": [
    {
     "name": "stdout",
     "output_type": "stream",
     "text": [
      "Starting likes info\n",
      "Number of users: 62583\n",
      "Number of models: 28806\n",
      "Sparsity: 0.035%\n",
      "Ending likes info\n",
      "Number of users: 15274\n",
      "Number of models: 25655\n",
      "Sparsity: 0.140%\n"
     ]
    }
   ],
   "source": [
    "df_lim = threshold_likes(df, 5, 5)"
   ]
  },
  {
   "cell_type": "markdown",
   "metadata": {},
   "source": [
    "데이터가 조금 dense하게 변한 것을 확인할 수 있다.(0.035% -> 0.140%) 이제 sparse matrix로 변경하기 전에 user id, model id 정보를 dictionary로 저장해놓도록 하자. (나중에 최종적으로 평가할 때 쓴다.)"
   ]
  },
  {
   "cell_type": "code",
   "execution_count": 7,
   "metadata": {
    "collapsed": true
   },
   "outputs": [],
   "source": [
    "# Create mappings\n",
    "mid_to_idx = {}\n",
    "idx_to_mid = {}\n",
    "for (idx, mid) in enumerate(df_lim.mid.unique().tolist()):\n",
    "    mid_to_idx[mid] = idx\n",
    "    idx_to_mid[idx] = mid\n",
    "    \n",
    "uid_to_idx = {}\n",
    "idx_to_uid = {}\n",
    "for (idx, uid) in enumerate(df_lim.uid.unique().tolist()):\n",
    "    uid_to_idx[uid] = idx\n",
    "    idx_to_uid[idx] = uid"
   ]
  },
  {
   "cell_type": "markdown",
   "metadata": {},
   "source": [
    "기존 matrix 형태로 사용하게 되면 memory를 너무 많이 사용하고 속도도 느리다. <br>\n",
    "그래서 이를 sparse matrix로 만들어준다. sparse matrix는 값이 있는 부분에 대해서만 행, 열 정보를 저장해서 사용하므로 효율적이다. \n",
    "sparse matrix에 관한 정보는 scipy [documentation](https://docs.scipy.org/doc/scipy-0.19.1/reference/generated/scipy.sparse.coo_matrix.html)와 [wikipedia](https://en.wikipedia.org/wiki/Sparse_matrix)를 참고하자."
   ]
  },
  {
   "cell_type": "code",
   "execution_count": 10,
   "metadata": {
    "collapsed": true
   },
   "outputs": [],
   "source": [
    "I = df_lim.uid.apply(lambda x: uid_to_idx[x]).as_matrix()\n",
    "J = df_lim.mid.apply(lambda x: mid_to_idx[x]).as_matrix()\n",
    "V = np.ones(I.shape[0])\n",
    "likes = sparse.coo_matrix((V, (I, J)), dtype=np.float64)\n",
    "likes = likes.tocsr()"
   ]
  },
  {
   "cell_type": "markdown",
   "metadata": {},
   "source": [
    "## Cross-validation: Train-test split\n",
    "\n",
    "이제 우리가 원하는 sparse matrix 형태의 데이터를 얻었다. 전체 데이터를 train과 test 데이터로 나누어 검증에 사용할 것이다.\n",
    "데이터를 뽑는 방법은 뒤에서 평가할 precision@k를 고려하여 2*k개 이상 관심를 보인 user로부터 k개의 데이터를 뽑아서 test 데이터로 지정해주고 같은 부분의 train 데이터는 0의 값을 넣어준다. \n",
    "\n",
    "앞서 5개 이상의 관심를 보인 user만 남겼는데 여기에서 한 번더 거르게 되므로 데이터가 전체적으로 관심이 많은 user 쪽으로 편향되게 된다. "
   ]
  },
  {
   "cell_type": "code",
   "execution_count": 13,
   "metadata": {
    "collapsed": true
   },
   "outputs": [],
   "source": [
    "def train_test_split(ratings, split_count, fraction=None):\n",
    "    \"\"\"\n",
    "    Split recommendation data into train and test sets\n",
    "    \n",
    "    Params\n",
    "    ------\n",
    "    ratings : scipy.sparse matrix\n",
    "        Interactions between users and items.\n",
    "    split_count : int\n",
    "        Number of user-item-interactions per user to move\n",
    "        from training to test set.\n",
    "    fractions : float\n",
    "        Fraction of users to split off some of their\n",
    "        interactions into test set. If None, then all \n",
    "        users are considered.\n",
    "    \"\"\"\n",
    "    train = ratings.copy().tocoo()\n",
    "    test = sparse.lil_matrix(train.shape)\n",
    "    \n",
    "    if fraction:\n",
    "        try:\n",
    "            # np.bincount: 있는 값들이 indices라고 생각하고 개수를 세서 indices에 반환해준다.  \n",
    "            # user 별로 10개 이상 평가했는지 확인한 다음에 한 user들 대상으로 무작위로 indices를 뽑는다. \n",
    "            user_index = np.random.choice(\n",
    "                np.where(np.bincount(train.row) >= split_count * 2)[0], \n",
    "                replace=False,\n",
    "                size=np.int32(np.floor(fraction * train.shape[0]))\n",
    "            ).tolist()\n",
    "        except:\n",
    "            print(('Not enough users with > {} '\n",
    "                  'interactions for fraction of {}')\\\n",
    "                  .format(2*k, fraction))\n",
    "            raise\n",
    "    else:\n",
    "        user_index = range(train.shape[0])\n",
    "        \n",
    "    # 행, 열 정보를 가져오기(subscriptable) 위해서는 lil 형식으로 바꿔줘야 한다. \n",
    "    train = train.tolil()\n",
    "    \n",
    "    for user in user_index:\n",
    "        # 위에서 고른 user에 대해서 indices(model) 들을 보고 그 중에 무작위로 5개를 뽑는다. \n",
    "        test_ratings = np.random.choice(ratings.getrow(user).indices, \n",
    "                                        size=split_count, \n",
    "                                        replace=False)\n",
    "        # train에서 뽑은 indices에 대해서는 0의 값을 지정해준다. \n",
    "        train[user, test_ratings] = 0.\n",
    "        # test는 반대로 위에서 뽑은 indices에 대해서 1의 값을 지정해준다. \n",
    "        test[user, test_ratings] = ratings[user, test_ratings]\n",
    "   \n",
    "    \n",
    "    # train, test 데이터는 서로 겹치는 1의 값이 없어야 한다. 즉 곱했을 때 전부다 0이다. \n",
    "    assert(train.multiply(test).nnz == 0)\n",
    "    return train.tocsr(), test.tocsr(), user_index"
   ]
  },
  {
   "cell_type": "markdown",
   "metadata": {},
   "source": [
    "## Cross-validation: Grid search\n",
    "\n",
    "Grid search를 이용해서 hyperparameter를 최적화시켜야 한다. hyperparameter의 종류는 아래와 같다.\n",
    "\n",
    "1. ```factors```: latent factor 수, user, item을 나타내는 vector의 차원이다. \n",
    "2. ```regularization```: user, item factor에 대한 regularization 크기. \n",
    "3. ```alpha```: confidence 크기를 조절하는 값. \n",
    "4. ```iterations```: ALS 학습 iteration 수.\n",
    "\n",
    "mean squared error (MSE)와 precision at k (p@k) 방법을 통해서 평가를 진행하고 hyperparameter 별로 learning curve를 그려서 \n",
    "비교하도록 하자."
   ]
  },
  {
   "cell_type": "code",
   "execution_count": 14,
   "metadata": {
    "collapsed": true
   },
   "outputs": [],
   "source": [
    "train, test, user_index = train_test_split(likes, 5, fraction=0.2)"
   ]
  },
  {
   "cell_type": "code",
   "execution_count": 16,
   "metadata": {
    "collapsed": true
   },
   "outputs": [],
   "source": [
    "# MSE를 구현했다. \n",
    "# 전체 user 대상으로 하거나 특정 user_index에 대해서만 평가할 수 있다. \n",
    "from sklearn.metrics import mean_squared_error\n",
    "\n",
    "def calculate_mse(model, ratings, user_index=None):\n",
    "    # user에 대한 item 선호도 전체를 구한다. \n",
    "    preds = model.predict_for_customers()\n",
    "    if user_index:\n",
    "        return mean_squared_error(ratings[user_index, :].toarray().ravel(),\n",
    "                                  preds[user_index, :].ravel())\n",
    "    \n",
    "    return mean_squared_error(ratings.toarray().ravel(),\n",
    "                              preds.ravel())"
   ]
  },
  {
   "cell_type": "code",
   "execution_count": 17,
   "metadata": {
    "collapsed": true
   },
   "outputs": [],
   "source": [
    "# precision을 구하는 방식이다. k개를 고르고 그 중에 몇개나 맞는지 확인한다. \n",
    "# 전체 user 대상으로 하거나 특정 user_index에 대해서만 평가할 수 있다. \n",
    "def precision_at_k(model, ratings, k=5, user_index=None):\n",
    "    if not user_index:\n",
    "        user_index = range(ratings.shape[0])\n",
    "    ratings = ratings.tocsr()\n",
    "    precisions = []\n",
    "    predictions = model.predict_for_customers()\n",
    "    for user in user_index:\n",
    "        top_k = np.argsort(-predictions[user, :])[:k]\n",
    "        labels = ratings.getrow(user).indices\n",
    "        precision = float(len(set(top_k) & set(labels))) / float(k)\n",
    "        precisions.append(precision)\n",
    "    return np.mean(precisions)"
   ]
  },
  {
   "cell_type": "code",
   "execution_count": 18,
   "metadata": {
    "collapsed": true
   },
   "outputs": [],
   "source": [
    "# 학습할 때 log 출력을 위한 코드\n",
    "def print_log(row, header=False, spacing=12):\n",
    "    top = ''\n",
    "    middle = ''\n",
    "    bottom = ''\n",
    "    for r in row:\n",
    "        top += '+{}'.format('-'*spacing)\n",
    "        if isinstance(r, str):\n",
    "            middle += '| {0:^{1}} '.format(r, spacing-2)\n",
    "        elif isinstance(r, int):\n",
    "            middle += '| {0:^{1}} '.format(r, spacing-2)\n",
    "        elif isinstance(r, float):\n",
    "            middle += '| {0:^{1}.5f} '.format(r, spacing-2)\n",
    "        bottom += '+{}'.format('='*spacing)\n",
    "    top += '+'\n",
    "    middle += '|'\n",
    "    bottom += '+'\n",
    "    if header:\n",
    "        print(top)\n",
    "        print(middle)\n",
    "        print(bottom)\n",
    "    else:\n",
    "        print(middle)\n",
    "        print(top)"
   ]
  },
  {
   "cell_type": "code",
   "execution_count": 19,
   "metadata": {
    "collapsed": true
   },
   "outputs": [],
   "source": [
    "# learning curve를 그려주는 코드\n",
    "def learning_curve(model, train, test, epochs, k=5, user_index=None):\n",
    "    if not user_index:\n",
    "        user_index = range(train.shape[0])\n",
    "    prev_epoch = 0\n",
    "    train_precision = []\n",
    "    train_mse = []\n",
    "    test_precision = []\n",
    "    test_mse = []\n",
    "    \n",
    "    headers = ['epochs', 'p@k train', 'p@k test',\n",
    "               'mse train', 'mse test']\n",
    "    print_log(headers, header=True)\n",
    "    \n",
    "    for epoch in epochs:\n",
    "        model.iterations = epoch - prev_epoch\n",
    "        if not hasattr(model, 'user_vectors'):\n",
    "            # item_to_user 형식을 받는 걸로 바뀌었다. \n",
    "            model.fit(train.T.tocsr())\n",
    "        else:\n",
    "            model.fit_partial(train.T.tocsr())\n",
    "        train_mse.append(calculate_mse(model, train, user_index))\n",
    "        train_precision.append(precision_at_k(model, train, k, user_index))\n",
    "        test_mse.append(calculate_mse(model, test, user_index))\n",
    "        test_precision.append(precision_at_k(model, test, k, user_index))\n",
    "        row = [epoch, train_precision[-1], test_precision[-1],\n",
    "               train_mse[-1], test_mse[-1]]\n",
    "        print_log(row)\n",
    "        prev_epoch = epoch\n",
    "    return model, train_precision, train_mse, test_precision, test_mse"
   ]
  },
  {
   "cell_type": "code",
   "execution_count": 21,
   "metadata": {
    "collapsed": true
   },
   "outputs": [],
   "source": [
    "def grid_search_learning_curve(base_model, train, test, param_grid,\n",
    "                               user_index=None, patk=5, epochs=range(2, 10, 2)):\n",
    "    \"\"\"\n",
    "    \"sklearn gridsearch 코드를 참고했다고 한다.\n",
    "    https://github.com/scikit-learn/scikit-learn/blob/master/sklearn/model_selection/_search.py\n",
    "    \"\"\"\n",
    "    curves = []\n",
    "    keys, values = zip(*param_grid.items())\n",
    "    for v in itertools.product(*values):\n",
    "        params = dict(zip(keys, v))\n",
    "        this_model = copy.deepcopy(base_model)\n",
    "        print_line = []\n",
    "        for k, v in params.items():\n",
    "            setattr(this_model, k, v)\n",
    "            print_line.append((k, v))\n",
    "\n",
    "        print(' | '.join('{}: {}'.format(k, v) for (k, v) in print_line))\n",
    "        _, train_patk, train_mse, test_patk, test_mse = learning_curve(this_model, train, test,\n",
    "                                                                epochs, k=patk, user_index=user_index)\n",
    "        curves.append({'params': params,\n",
    "                       'patk': {'train': train_patk, 'test': test_patk},\n",
    "                       'mse': {'train': train_mse, 'test': test_mse}})\n",
    "    return curvesd"
   ]
  },
  {
   "cell_type": "markdown",
   "metadata": {},
   "source": [
    "grid를 너무 많이 넣어서 연산하면 너무 오래 걸리므로 적당히 돌려보자. 괜찮은 값은 아래에 test 결과로 있으므로 시간을 절약하기 위해서는 grid search 과정을 넘어가도 된다. "
   ]
  },
  {
   "cell_type": "code",
   "execution_count": 22,
   "metadata": {
    "collapsed": true
   },
   "outputs": [],
   "source": [
    "param_grid = {'factors': [40], # 80, 120],\n",
    "              'regularization': [0.0, 1e-5, 1e-3], # 1e-1, 1e1, 1e2]\n",
    "              'alpha': [1, 10, 50]} #, 100, 500, 1000]}"
   ]
  },
  {
   "cell_type": "code",
   "execution_count": 23,
   "metadata": {
    "collapsed": true
   },
   "outputs": [],
   "source": [
    "base_model = implicit.als.AlternatingLeastSquares()"
   ]
  },
  {
   "cell_type": "code",
   "execution_count": 24,
   "metadata": {},
   "outputs": [
    {
     "name": "stdout",
     "output_type": "stream",
     "text": [
      "factors: 40 | regularization: 0.0 | alpha: 1\n",
      "+------------+------------+------------+------------+------------+\n",
      "|   epochs   | p@k train  |  p@k test  | mse train  |  mse test  |\n",
      "+============+============+============+============+============+\n",
      "|     2      |  0.28762   |  0.02534   |  0.00159   |  0.00053   |\n",
      "+------------+------------+------------+------------+------------+\n",
      "|     4      |  0.30000   |  0.03471   |  0.00155   |  0.00058   |\n",
      "+------------+------------+------------+------------+------------+\n",
      "|     6      |  0.29096   |  0.03563   |  0.00154   |  0.00059   |\n",
      "+------------+------------+------------+------------+------------+\n",
      "|     8      |  0.28684   |  0.03615   |  0.00154   |  0.00059   |\n",
      "+------------+------------+------------+------------+------------+\n",
      "factors: 40 | regularization: 0.0 | alpha: 10\n",
      "+------------+------------+------------+------------+------------+\n",
      "|   epochs   | p@k train  |  p@k test  | mse train  |  mse test  |\n",
      "+============+============+============+============+============+\n",
      "|     2      |  0.36902   |  0.03143   |  0.00383   |  0.00375   |\n",
      "+------------+------------+------------+------------+------------+\n",
      "|     4      |  0.35305   |  0.04375   |  0.00374   |  0.00378   |\n",
      "+------------+------------+------------+------------+------------+\n",
      "|     6      |  0.34532   |  0.04525   |  0.00371   |  0.00378   |\n",
      "+------------+------------+------------+------------+------------+\n",
      "|     8      |  0.34224   |  0.04663   |  0.00370   |  0.00378   |\n",
      "+------------+------------+------------+------------+------------+\n",
      "factors: 40 | regularization: 0.0 | alpha: 50\n",
      "+------------+------------+------------+------------+------------+\n",
      "|   epochs   | p@k train  |  p@k test  | mse train  |  mse test  |\n",
      "+============+============+============+============+============+\n",
      "|     2      |  0.33975   |  0.02587   |  0.01509   |  0.01585   |\n",
      "+------------+------------+------------+------------+------------+\n",
      "|     4      |  0.32403   |  0.04132   |  0.01394   |  0.01483   |\n",
      "+------------+------------+------------+------------+------------+\n",
      "|     6      |  0.30727   |  0.04473   |  0.01365   |  0.01458   |\n",
      "+------------+------------+------------+------------+------------+\n",
      "|     8      |  0.29718   |  0.04761   |  0.01353   |  0.01447   |\n",
      "+------------+------------+------------+------------+------------+\n",
      "factors: 40 | regularization: 1e-05 | alpha: 1\n",
      "+------------+------------+------------+------------+------------+\n",
      "|   epochs   | p@k train  |  p@k test  | mse train  |  mse test  |\n",
      "+============+============+============+============+============+\n",
      "|     2      |  0.29031   |  0.02659   |  0.00159   |  0.00054   |\n",
      "+------------+------------+------------+------------+------------+\n",
      "|     4      |  0.29476   |  0.03418   |  0.00155   |  0.00058   |\n",
      "+------------+------------+------------+------------+------------+\n",
      "|     6      |  0.28474   |  0.03484   |  0.00154   |  0.00058   |\n",
      "+------------+------------+------------+------------+------------+\n",
      "|     8      |  0.28160   |  0.03504   |  0.00154   |  0.00059   |\n",
      "+------------+------------+------------+------------+------------+\n",
      "factors: 40 | regularization: 1e-05 | alpha: 10\n",
      "+------------+------------+------------+------------+------------+\n",
      "|   epochs   | p@k train  |  p@k test  | mse train  |  mse test  |\n",
      "+============+============+============+============+============+\n",
      "|     2      |  0.37086   |  0.03078   |  0.00383   |  0.00375   |\n",
      "+------------+------------+------------+------------+------------+\n",
      "|     4      |  0.35462   |  0.04388   |  0.00374   |  0.00378   |\n",
      "+------------+------------+------------+------------+------------+\n",
      "|     6      |  0.34420   |  0.04663   |  0.00371   |  0.00378   |\n",
      "+------------+------------+------------+------------+------------+\n",
      "|     8      |  0.34047   |  0.04709   |  0.00370   |  0.00378   |\n",
      "+------------+------------+------------+------------+------------+\n",
      "factors: 40 | regularization: 1e-05 | alpha: 50\n",
      "+------------+------------+------------+------------+------------+\n",
      "|   epochs   | p@k train  |  p@k test  | mse train  |  mse test  |\n",
      "+============+============+============+============+============+\n",
      "|     2      |  0.33805   |  0.02554   |  0.01515   |  0.01591   |\n",
      "+------------+------------+------------+------------+------------+\n",
      "|     4      |  0.32574   |  0.03988   |  0.01393   |  0.01482   |\n",
      "+------------+------------+------------+------------+------------+\n",
      "|     6      |  0.30465   |  0.04506   |  0.01367   |  0.01459   |\n",
      "+------------+------------+------------+------------+------------+\n",
      "|     8      |  0.29384   |  0.04735   |  0.01356   |  0.01449   |\n",
      "+------------+------------+------------+------------+------------+\n",
      "factors: 40 | regularization: 0.001 | alpha: 1\n",
      "+------------+------------+------------+------------+------------+\n",
      "|   epochs   | p@k train  |  p@k test  | mse train  |  mse test  |\n",
      "+============+============+============+============+============+\n",
      "|     2      |  0.28978   |  0.02547   |  0.00159   |  0.00054   |\n",
      "+------------+------------+------------+------------+------------+\n",
      "|     4      |  0.29797   |  0.03445   |  0.00154   |  0.00059   |\n",
      "+------------+------------+------------+------------+------------+\n",
      "|     6      |  0.28939   |  0.03464   |  0.00154   |  0.00059   |\n",
      "+------------+------------+------------+------------+------------+\n",
      "|     8      |  0.28684   |  0.03589   |  0.00154   |  0.00059   |\n",
      "+------------+------------+------------+------------+------------+\n",
      "factors: 40 | regularization: 0.001 | alpha: 10\n",
      "+------------+------------+------------+------------+------------+\n",
      "|   epochs   | p@k train  |  p@k test  | mse train  |  mse test  |\n",
      "+============+============+============+============+============+\n",
      "|     2      |  0.36785   |  0.02973   |  0.00384   |  0.00375   |\n",
      "+------------+------------+------------+------------+------------+\n",
      "|     4      |  0.35619   |  0.04145   |  0.00374   |  0.00378   |\n",
      "+------------+------------+------------+------------+------------+\n",
      "|     6      |  0.34774   |  0.04623   |  0.00371   |  0.00378   |\n",
      "+------------+------------+------------+------------+------------+\n",
      "|     8      |  0.34145   |  0.04833   |  0.00370   |  0.00378   |\n",
      "+------------+------------+------------+------------+------------+\n",
      "factors: 40 | regularization: 0.001 | alpha: 50\n",
      "+------------+------------+------------+------------+------------+\n",
      "|   epochs   | p@k train  |  p@k test  | mse train  |  mse test  |\n",
      "+============+============+============+============+============+\n",
      "|     2      |  0.34335   |  0.02456   |  0.01509   |  0.01586   |\n",
      "+------------+------------+------------+------------+------------+\n",
      "|     4      |  0.32613   |  0.04204   |  0.01398   |  0.01487   |\n",
      "+------------+------------+------------+------------+------------+\n",
      "|     6      |  0.30884   |  0.04643   |  0.01369   |  0.01461   |\n",
      "+------------+------------+------------+------------+------------+\n",
      "|     8      |  0.29810   |  0.04892   |  0.01356   |  0.01450   |\n",
      "+------------+------------+------------+------------+------------+\n"
     ]
    }
   ],
   "source": [
    "curves = grid_search_learning_curve(base_model, train, test,\n",
    "                                    param_grid,\n",
    "                                    user_index=user_index,\n",
    "                                    patk=5)"
   ]
  },
  {
   "cell_type": "markdown",
   "metadata": {},
   "source": [
    "아래 표는 저자가 grid search 했을 때 가장 좋았던 hyperparameter 및 결과라고 한다. \n",
    "\n",
    "best run:\n",
    "\n",
    "```\n",
    "alpha: 50 | num_factors: 40 | regularization: 0.1\n",
    "+------------+------------+------------+------------+------------+\n",
    "|   epochs   | p@k train  |  p@k test  | mse train  |  mse test  |\n",
    "+============+============+============+============+============+\n",
    "|     2      |  0.33988   |  0.02541   |  0.01333   |  0.01403   |\n",
    "+------------+------------+------------+------------+------------+\n",
    "|     4      |  0.31395   |  0.03916   |  0.01296   |  0.01377   |\n",
    "+------------+------------+------------+------------+------------+\n",
    "|     6      |  0.30085   |  0.04231   |  0.01288   |  0.01372   |\n",
    "+------------+------------+------------+------------+------------+\n",
    "|     8      |  0.29175   |  0.04231   |  0.01285   |  0.01370   |\n",
    "+------------+------------+------------+------------+------------+\n",
    "|     10     |  0.28638   |  0.04407   |  0.01284   |  0.01370   |\n",
    "+------------+------------+------------+------------+------------+\n",
    "|     12     |  0.28684   |  0.04492   |  0.01284   |  0.01371   |\n",
    "+------------+------------+------------+------------+------------+\n",
    "|     14     |  0.28533   |  0.04571   |  0.01285   |  0.01371   |\n",
    "+------------+------------+------------+------------+------------+\n",
    "|     16     |  0.28389   |  0.04689   |  0.01285   |  0.01372   |\n",
    "+------------+------------+------------+------------+------------+\n",
    "|     18     |  0.28454   |  0.04695   |  0.01286   |  0.01373   |\n",
    "+------------+------------+------------+------------+------------+\n",
    "|     20     |  0.28454   |  0.04728   |  0.01287   |  0.01374   |\n",
    "+------------+------------+------------+------------+------------+\n",
    "|     22     |  0.28409   |  0.04761   |  0.01288   |  0.01376   |\n",
    "+------------+------------+------------+------------+------------+\n",
    "|     24     |  0.28251   |  0.04689   |  0.01289   |  0.01377   |\n",
    "+------------+------------+------------+------------+------------+\n",
    "|     26     |  0.28186   |  0.04656   |  0.01290   |  0.01378   |\n",
    "+------------+------------+------------+------------+------------+\n",
    "|     28     |  0.28199   |  0.04676   |  0.01291   |  0.01379   |\n",
    "+------------+------------+------------+------------+------------+\n",
    "|     30     |  0.28127   |  0.04669   |  0.01292   |  0.01380   |\n",
    "+------------+------------+------------+------------+------------+\n",
    "|     32     |  0.28173   |  0.04650   |  0.01292   |  0.01381   |\n",
    "+------------+------------+------------+------------+------------+\n",
    "|     34     |  0.28153   |  0.04650   |  0.01293   |  0.01382   |\n",
    "+------------+------------+------------+------------+------------+\n",
    "|     36     |  0.28166   |  0.04604   |  0.01294   |  0.01382   |\n",
    "+------------+------------+------------+------------+------------+\n",
    "|     38     |  0.28153   |  0.04637   |  0.01295   |  0.01383   |\n",
    "+------------+------------+------------+------------+------------+\n",
    "```"
   ]
  },
  {
   "cell_type": "markdown",
   "metadata": {},
   "source": [
    "learning curve를 살펴보자."
   ]
  },
  {
   "cell_type": "code",
   "execution_count": 25,
   "metadata": {
    "collapsed": true
   },
   "outputs": [],
   "source": [
    "best_curves = sorted(curves, key=lambda x: max(x['patk']['test']), reverse=True)"
   ]
  },
  {
   "cell_type": "code",
   "execution_count": 26,
   "metadata": {},
   "outputs": [
    {
     "name": "stdout",
     "output_type": "stream",
     "text": [
      "{'factors': 40, 'regularization': 0.001, 'alpha': 50}\n",
      "0.0489194499018\n",
      "Epoch: 8\n"
     ]
    }
   ],
   "source": [
    "print(best_curves[0]['params'])\n",
    "max_score = max(best_curves[0]['patk']['test'])\n",
    "print(max_score)\n",
    "iterations = range(2, 40, 2)[best_curves[0]['patk']['test'].index(max_score)]\n",
    "print('Epoch: {}'.format(iterations))"
   ]
  },
  {
   "cell_type": "code",
   "execution_count": 27,
   "metadata": {},
   "outputs": [
    {
     "data": {
      "image/png": "[encoded data removed]",
      "text/plain": [
       "<matplotlib.figure.Figure at 0x7f82ad6b4940>"
      ]
     },
     "metadata": {},
     "output_type": "display_data"
    }
   ],
   "source": [
    "import seaborn as sns\n",
    "sns.set_style('white')\n",
    "fig, ax = plt.subplots()\n",
    "sns.despine(fig);\n",
    "epochs = range(2, 10, 2)\n",
    "plt.plot(epochs, best_curves[0]['patk']['test']);\n",
    "plt.xlabel('Epochs', fontsize=24);\n",
    "plt.ylabel('Test p@k', fontsize=24);\n",
    "plt.xticks(fontsize=18);\n",
    "plt.yticks(fontsize=18);\n",
    "plt.title('Best learning curve', fontsize=30);"
   ]
  },
  {
   "cell_type": "markdown",
   "metadata": {},
   "source": [
    "학습 시간이 늘어날 수록 p@k가 줄어드는 것을 볼 수 있다. 컴퓨터가 더 좋다면 좀 더 길게 학습시켜보시길 바란다. \n",
    "\n",
    "아래에는 hyperparameter에 따라 p@k가 어떻게 변하는 지를 보기 위해 지금까지 학습한 결과를 하나의 그래프로 나타내도록 하자."
   ]
  },
  {
   "cell_type": "code",
   "execution_count": 30,
   "metadata": {
    "collapsed": true
   },
   "outputs": [],
   "source": [
    "all_test_patks = [x['patk']['test'] for x in best_curves]"
   ]
  },
  {
   "cell_type": "code",
   "execution_count": 31,
   "metadata": {},
   "outputs": [
    {
     "data": {
      "image/png": "[encoded data removed]",
      "text/plain": [
       "<matplotlib.figure.Figure at 0x7f82ac76f860>"
      ]
     },
     "metadata": {},
     "output_type": "display_data"
    }
   ],
   "source": [
    "fig, ax = plt.subplots(figsize=(8, 10));\n",
    "sns.despine(fig);\n",
    "epochs = range(2, 10, 2)\n",
    "totes = len(all_test_patks)\n",
    "for i, test_patk in enumerate(all_test_patks):\n",
    "    ax.plot(epochs, test_patk,\n",
    "             alpha=1/(.1*i+1),\n",
    "             c=sns.color_palette()[0]);\n",
    "    \n",
    "plt.xlabel('Epochs', fontsize=24);\n",
    "plt.ylabel('Test p@k', fontsize=24);\n",
    "plt.xticks(fontsize=18);\n",
    "plt.yticks(fontsize=18);\n",
    "plt.title('Grid-search p@k traces', fontsize=30);"
   ]
  },
  {
   "cell_type": "markdown",
   "metadata": {},
   "source": [
    "## Rec-a-sketch\n",
    "\n",
    "위 과정을 통해서 최적의 모델, hyperparameter를 찾았으니 이 조건대로 학습하면 된다. 이제 마지막으로 우리 모델이 얼마나 추천을 잘 하는지 살펴보자. 방법은 item을 선정하고 가장 유사한 item을 추천해주는 방식이다."
   ]
  },
  {
   "cell_type": "code",
   "execution_count": 32,
   "metadata": {
    "collapsed": true
   },
   "outputs": [],
   "source": [
    "params = best_curves[0]['params']\n",
    "params['iterations'] = range(2, 40, 2)[best_curves[0]['patk']['test'].index(max_score)]\n",
    "bestALS = implicit.als.AlternatingLeastSquares(**params)"
   ]
  },
  {
   "cell_type": "code",
   "execution_count": 33,
   "metadata": {
    "collapsed": true
   },
   "outputs": [],
   "source": [
    "# 전체 데이터에 대해 학습을 시키자. \n",
    "bestALS.fit(likes.T.tocsr())"
   ]
  },
  {
   "cell_type": "markdown",
   "metadata": {},
   "source": [
    "```AlternatingLeastSquares``` 클래스의 ```predict_for_items``` 매서드를 사용해서 item을 입력했을 때 추천 item을 확인할 수 있으며 cosine similiarity를 사용한다. \n",
    "```python\n",
    "    def predict_for_items(self, norm=True):\n",
    "        \"\"\"Recommend products for all products\"\"\"\n",
    "        pred = self.item_vectors.dot(self.item_vectors.T)\n",
    "        if norm:\n",
    "            norms = np.array([np.sqrt(np.diagonal(pred))])\n",
    "            pred = pred / norms / norms.T\n",
    "        return pred\n",
    "```"
   ]
  },
  {
   "cell_type": "markdown",
   "metadata": {},
   "source": [
    "이제, sketchfab API를 이용해서 우리가 평가하려는 item과 추천해주는 k개 item의 썸네일을 받아서 보여주고 정성적으로 추천시스템이 잘 작동하는 지 확인해보자."
   ]
  },
  {
   "cell_type": "code",
   "execution_count": 35,
   "metadata": {
    "collapsed": true
   },
   "outputs": [],
   "source": [
    "# 학습시킨 모델, item의 idx, 추천할 item 수를 입력하면 image의 url을 반환해준다. \n",
    "import requests\n",
    "def get_thumbnails(model, idx, idx_to_mid, N=10):\n",
    "    pred_for_item = model.predict_for_item(idx, False)\n",
    "    thumbs = []\n",
    "    for x in np.argsort(-pred_for_item)[:N]:\n",
    "        response = requests.get('https://sketchfab.com/i/models/{}'.format(idx_to_mid[x])).json()\n",
    "        thumb = [x['url'] for x in response['thumbnails']['images'] if x['width'] in [200, 256] \n",
    "                 and x['height'] in [200, 144]]\n",
    "        if not thumb:\n",
    "            print('no thumbnail')\n",
    "        else:\n",
    "            thumbs.append(thumb[0])\n",
    "    return thumbs"
   ]
  },
  {
   "cell_type": "code",
   "execution_count": 36,
   "metadata": {
    "collapsed": true
   },
   "outputs": [],
   "source": [
    "# Jupyter notebook 내에 image 출력을 해주기 위해서 사용한 코드이다. \n",
    "from IPython.display import display, HTML\n",
    "\n",
    "def display_thumbs(thumbs, N=5):\n",
    "    thumb_html = \"<img style='width: 160px; margin: 0px; \\\n",
    "                  float: left; border: 1px solid black;' src='{}' />\"\n",
    "    images = ''\n",
    "    display(HTML('<font size=5>'+'Input Model'+'</font>'))\n",
    "    display(HTML(thumb_html.format(thumbs[0])))\n",
    "    display(HTML('<font size=5>'+'Similar Models'+'</font>'))\n",
    "\n",
    "    for url in thumbs[1:N+1]:\n",
    "        images += thumb_html.format(url)\n",
    "    display(HTML(images))"
   ]
  },
  {
   "cell_type": "code",
   "execution_count": 38,
   "metadata": {},
   "outputs": [
    {
     "data": {
      "text/html": [
       "<font size=5>Input Model</font>"
      ],
      "text/plain": [
       "<IPython.core.display.HTML object>"
      ]
     },
     "metadata": {},
     "output_type": "display_data"
    },
    {
     "data": {
      "text/html": [
       "<img style='width: 160px; margin: 0px;                   float: left; border: 1px solid black;' src='https://media.sketchfab.com/urls/4702a19f22704643bd5c53e5d979660b/dist/thumbnails/803abbaa7ad8414cafa8291178b174ed/200x200.jpeg' />"
      ],
      "text/plain": [
       "<IPython.core.display.HTML object>"
      ]
     },
     "metadata": {},
     "output_type": "display_data"
    },
    {
     "data": {
      "text/html": [
       "<font size=5>Similar Models</font>"
      ],
      "text/plain": [
       "<IPython.core.display.HTML object>"
      ]
     },
     "metadata": {},
     "output_type": "display_data"
    },
    {
     "data": {
      "text/html": [
       "<img style='width: 160px; margin: 0px;                   float: left; border: 1px solid black;' src='https://media.sketchfab.com/urls/0fcaff2774284bbcb2fb748646960723/dist/thumbnails/1feda92b78824cafbc203763f402c24f/256x144.jpeg' /><img style='width: 160px; margin: 0px;                   float: left; border: 1px solid black;' src='https://media.sketchfab.com/urls/96340701c2ed4d37851c7d9109eee9c0/dist/thumbnails/316cd8e9eb564af68814768c6f8428fb/256x144.jpeg' /><img style='width: 160px; margin: 0px;                   float: left; border: 1px solid black;' src='https://media.sketchfab.com/urls/ecc37d5b993540dea45ee3ced1101ede/dist/thumbnails/fb4802828bb840c7a037d193939d2fd8/200x200.jpeg' /><img style='width: 160px; margin: 0px;                   float: left; border: 1px solid black;' src='https://media.sketchfab.com/urls/7f3fced661e346e6a0ecfbd4cb710e2a/dist/thumbnails/8c41ef24e92447c5b37bd0215387d9bf/200x200.jpeg' /><img style='width: 160px; margin: 0px;                   float: left; border: 1px solid black;' src='https://media.sketchfab.com/urls/4c3ab38fdceb456e86551b49b11092d1/dist/thumbnails/a265036c1f154d34a1d634e8d77cb675/200x200.jpeg' />"
      ],
      "text/plain": [
       "<IPython.core.display.HTML object>"
      ]
     },
     "metadata": {},
     "output_type": "display_data"
    }
   ],
   "source": [
    "# item을 무작위로 뽑아서 실행해보자.\n",
    "rand_model = np.random.randint(0, len(idx_to_mid))\n",
    "display_thumbs(get_thumbnails(bestALS, rand_model, idx_to_mid))"
   ]
  },
  {
   "cell_type": "code",
   "execution_count": 44,
   "metadata": {},
   "outputs": [
    {
     "data": {
      "text/html": [
       "<font size=5>Input Model</font>"
      ],
      "text/plain": [
       "<IPython.core.display.HTML object>"
      ]
     },
     "metadata": {},
     "output_type": "display_data"
    },
    {
     "data": {
      "text/html": [
       "<img style='width: 160px; margin: 0px;                   float: left; border: 1px solid black;' src='https://media.sketchfab.com/urls/52f2e84961b94760b7805c178890d644/dist/thumbnails/98032dca0cf541a8a933f56451c730a1/200x200.jpeg' />"
      ],
      "text/plain": [
       "<IPython.core.display.HTML object>"
      ]
     },
     "metadata": {},
     "output_type": "display_data"
    },
    {
     "data": {
      "text/html": [
       "<font size=5>Similar Models</font>"
      ],
      "text/plain": [
       "<IPython.core.display.HTML object>"
      ]
     },
     "metadata": {},
     "output_type": "display_data"
    },
    {
     "data": {
      "text/html": [
       "<img style='width: 160px; margin: 0px;                   float: left; border: 1px solid black;' src='https://media.sketchfab.com/urls/719a678d63164acda04767b48f9c2f18/dist/thumbnails/f83f4f5fc1b7478fbed7b451e3a02207/200x200.jpeg' /><img style='width: 160px; margin: 0px;                   float: left; border: 1px solid black;' src='https://media.sketchfab.com/urls/96340701c2ed4d37851c7d9109eee9c0/dist/thumbnails/316cd8e9eb564af68814768c6f8428fb/256x144.jpeg' /><img style='width: 160px; margin: 0px;                   float: left; border: 1px solid black;' src='https://media.sketchfab.com/urls/404b3313395f410e955752d9b0f506d0/dist/thumbnails/ed8dd40373404d17accd055e87a00670/256x144.jpeg' /><img style='width: 160px; margin: 0px;                   float: left; border: 1px solid black;' src='https://media.sketchfab.com/urls/07ac452d75cc47969234b224422ea85d/dist/thumbnails/33fb4ce09214420cb2628b13421c5365/256x144.jpeg' /><img style='width: 160px; margin: 0px;                   float: left; border: 1px solid black;' src='https://media.sketchfab.com/urls/30a71affbe5744c4bd4a449a57d6f633/dist/thumbnails/c3a4ca3a19cf4524bb6c3a7fdbe093cf/200x200.jpeg' />"
      ],
      "text/plain": [
       "<IPython.core.display.HTML object>"
      ]
     },
     "metadata": {},
     "output_type": "display_data"
    }
   ],
   "source": [
    "# item을 무작위로 뽑아서 실행해보자.\n",
    "rand_model = np.random.randint(0, len(idx_to_mid))\n",
    "display_thumbs(get_thumbnails(bestALS, rand_model, idx_to_mid))"
   ]
  },
  {
   "cell_type": "code",
   "execution_count": 41,
   "metadata": {
    "scrolled": true
   },
   "outputs": [
    {
     "data": {
      "text/html": [
       "<font size=5>Input Model</font>"
      ],
      "text/plain": [
       "<IPython.core.display.HTML object>"
      ]
     },
     "metadata": {},
     "output_type": "display_data"
    },
    {
     "data": {
      "text/html": [
       "<img style='width: 160px; margin: 0px;                   float: left; border: 1px solid black;' src='https://media.sketchfab.com/urls/e051a32d21d6453c8fad408082492267/dist/thumbnails/7158f7e230bd488bbbafca47c8a77021/200x200.jpeg' />"
      ],
      "text/plain": [
       "<IPython.core.display.HTML object>"
      ]
     },
     "metadata": {},
     "output_type": "display_data"
    },
    {
     "data": {
      "text/html": [
       "<font size=5>Similar Models</font>"
      ],
      "text/plain": [
       "<IPython.core.display.HTML object>"
      ]
     },
     "metadata": {},
     "output_type": "display_data"
    },
    {
     "data": {
      "text/html": [
       "<img style='width: 160px; margin: 0px;                   float: left; border: 1px solid black;' src='https://media.sketchfab.com/urls/885d9f60b3a9429bb4077cfac5653cf9/dist/thumbnails/20dd86bd84664ca7b7045e4894db409f/256x144.jpeg' /><img style='width: 160px; margin: 0px;                   float: left; border: 1px solid black;' src='https://media.sketchfab.com/urls/a5ea0bf252884fceabf1007e8050f3fc/dist/thumbnails/66848eed5c1f4a96979ff8952f266223/200x200.jpeg' /><img style='width: 160px; margin: 0px;                   float: left; border: 1px solid black;' src='https://media.sketchfab.com/urls/311d052a9f034ba8bce55a1a8296b6f9/dist/thumbnails/95bb7e4b1b6b415f8fc629d6a469ba70/200x200.jpeg' /><img style='width: 160px; margin: 0px;                   float: left; border: 1px solid black;' src='https://media.sketchfab.com/urls/faed84a829114e378be255414a7826ca/dist/thumbnails/15f002f23fc642149bc394502c28a31e/200x200.jpeg' /><img style='width: 160px; margin: 0px;                   float: left; border: 1px solid black;' src='https://media.sketchfab.com/urls/429e0904ae0d40acb650d01b6b05a797/dist/thumbnails/288839abf14d40e5be24520df4fc9d00/200x200.jpeg' />"
      ],
      "text/plain": [
       "<IPython.core.display.HTML object>"
      ]
     },
     "metadata": {},
     "output_type": "display_data"
    }
   ],
   "source": [
    "# item을 무작위로 뽑아서 실행해보자.\n",
    "rand_model = np.random.randint(0, len(idx_to_mid))\n",
    "display_thumbs(get_thumbnails(bestALS, rand_model, idx_to_mid))"
   ]
  },
  {
   "cell_type": "markdown",
   "metadata": {},
   "source": [
    "완벽하진 않지만 그래도 어느 정도 유사도를 학습한 것으로 보인다. 단순히 사람들이 관심도를 표현한 내용만 가지고 이렇게 item 간에 유사성을 학습한 것이 신가하다. 앞으로 다른 implicit feedback을 학습시킬 다른 모델을 살펴보고 Neural Network로 학습시키는 방법을 살펴본다고 한다."
   ]
  }
 ],
 "metadata": {
  "kernelspec": {
   "display_name": "Python 3",
   "language": "python",
   "name": "python3"
  },
  "language_info": {
   "codemirror_mode": {
    "name": "ipython",
    "version": 3
   },
   "file_extension": ".py",
   "mimetype": "text/x-python",
   "name": "python",
   "nbconvert_exporter": "python",
   "pygments_lexer": "ipython3",
   "version": "3.6.1"
  }
 },
 "nbformat": 4,
 "nbformat_minor": 1
}
